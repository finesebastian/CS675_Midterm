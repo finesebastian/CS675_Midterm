{
 "cells": [
  {
   "cell_type": "code",
   "execution_count": null,
   "id": "cheap-communication",
   "metadata": {},
   "outputs": [],
   "source": [
    "#Dictionary Generator for N Unique Values in Pandas Dataframe Columns\n",
    "\n",
    "#Shows Unique Values through Col\n",
    "pd.unique(DATAFRAME_VARIABLE['COL_NAME'])\n",
    "\n",
    "#Stores List of Unique Col Values, zips with sequence of length(unique)\n",
    "colDictionary = dict(zip(pd.unique(DATAFRAME_VARIABLE['COL_NAME']),range(1,len(pd.unique(DATAFRAME_VARIABLE['COL_NAME'])))))\n",
    "\n",
    "\n",
    "#Prints Dictionary\n",
    "colDictionary\n",
    "\n",
    "#Apply dictionary for categorical string values with keys so all numeric in comparison\n",
    "DATAFRAME_VARIABLE['COL_NAME'] = DATAFRAME_VARIABLE['COL_NAME'].map(colDictionary)"
   ]
  }
 ],
 "metadata": {
  "kernelspec": {
   "display_name": "Python 3",
   "language": "python",
   "name": "python3"
  },
  "language_info": {
   "codemirror_mode": {
    "name": "ipython",
    "version": 3
   },
   "file_extension": ".py",
   "mimetype": "text/x-python",
   "name": "python",
   "nbconvert_exporter": "python",
   "pygments_lexer": "ipython3",
   "version": "3.8.5"
  }
 },
 "nbformat": 4,
 "nbformat_minor": 5
}
