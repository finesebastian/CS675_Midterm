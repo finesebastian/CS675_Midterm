{
 "cells": [
  {
   "cell_type": "code",
   "execution_count": 133,
   "metadata": {
    "pycharm": {
     "name": "#%%\n"
    }
   },
   "outputs": [],
   "source": [
    "import matplotlib.pyplot as plt\n",
    "import seaborn as sns\n",
    "import pandas as pd\n",
    "import numpy as np\n",
    "from sklearn.model_selection import train_test_split\n",
    "from sklearn.linear_model import LinearRegression\n",
    "from sklearn.tree import DecisionTreeRegressor\n",
    "from sklearn.preprocessing import LabelEncoder\n",
    "from scipy.stats import iqr\n",
    "from sklearn import metrics\n",
    "%matplotlib inline"
   ]
  },
  {
   "cell_type": "code",
   "execution_count": null,
   "metadata": {},
   "outputs": [],
   "source": [
    "#Functions\n",
    "\n",
    "# Takes dataframe, intializes two matrices (num_features: number of features and cat_features: feature category)\n",
    "# returns matrices\n",
    "def get_cat_num_features(df):\n",
    "    num_features = []\n",
    "    cat_features = []\n",
    "    for col in df.columns:\n",
    "        if df[col].dtype==\"float64\" or df[col].dtype==\"int64\":\n",
    "            num_features.append(col)\n",
    "        else:\n",
    "            cat_features.append(col)\n",
    "    return num_features, cat_features\n",
    "\n",
    "# Takes original dataframe (original_dataframe) with identified outlier dataframe (get_outlier_dataframe) \n",
    "# and number of columns (dataframe_features)\n",
    "# rm_outliers boolean allows shortcutting of calling get_outliers command prior \n",
    "def remove_outliers(original_dataframe = [], get_outlier_dataframe = [], dataframe_features = [], rm_outliers=False):\n",
    "    \n",
    "    if rm_outliers:\n",
    "        get_outlier_dataframe = get_outliers(original_dataframe,dataframe_features)\n",
    "    \n",
    "    for col in get_outlier_dataframe['Feature'].to_list():\n",
    "        upper = get_outlier_dataframe[get_outlier_dataframe['Feature']== col ]['Upper limit'].values[0]\n",
    "        lower = get_outlier_dataframe[get_outlier_dataframe['Feature']== col ]['Lower limit'].values[0]\n",
    "        original_dataframe[col] = np.where(original_dataframe[col]>upper, upper, original_dataframe[col])\n",
    "        original_dataframe[col] = np.where(original_dataframe[col]<lower, lower, original_dataframe[col])\n",
    "        \n",
    "    return original_dataframe\n",
    "\n",
    "\n",
    "# Takes dataframe and number of columns in datafrae (num_feat)\n",
    "# Utilizes descriptive statistics (IQR) to identify outliers (1.5 +/- IQR at 25th or 75th percentiles)\n",
    "# Creates dataframe identifying outlier: column, total outlier count (total), and outliers (upper, lower)\n",
    "# rm_outlier functions to enable automatic removal of identified outliers via remove_outliers function\n",
    "def get_outliers(df, num_feat):\n",
    "    outlier_df = pd.DataFrame(columns=['Feature', 'Total Outliers','Upper limit', 'Lower limit'])\n",
    "    for col in num_feat:\n",
    "        lower=np.percentile(df[col],25)-(1.5*iqr(df[col]))\n",
    "        upper=np.percentile(df[col],75)+(1.5*iqr(df[col]))\n",
    "        upper_outliers = df[df[col] > upper]\n",
    "        lower_outliers = df[df[col] < lower]\n",
    "        total=lower_outliers.shape[0]+upper_outliers.shape[0]\n",
    "        if (total!=0) and (upper!=0 and lower!=0):\n",
    "            outlier_df = outlier_df.append({'Feature':col, 'Total Outliers': total,'Upper limit': upper, 'Lower limit':lower}, ignore_index=True)\n",
    "    \n",
    "    return outlier_df\n"
   ]
  },
  {
   "cell_type": "code",
   "execution_count": 135,
   "metadata": {
    "pycharm": {
     "name": "#%%\n"
    }
   },
   "outputs": [],
   "source": [
    "data=pd.read_csv('house-prices-advanced-regression-techniques/train.csv',index_col='Id')\n",
    "data2=pd.read_csv('house-prices-advanced-regression-techniques/test.csv',index_col='Id')\n",
    "temp=data['SalePrice']\n",
    "data=data.drop(['SalePrice'],axis=1)\n",
    "data=pd.concat([data,data2])\n",
    "data=data.fillna({'Alley':'NA','BsmtQual':'NA','BsmtCond':'NA','BsmtExposure':'NA','BsmtFinType1':'NA','BsmtFinType2':'NA','FireplaceQu':'NA','GarageType':'NA','GarageFinish':'NA','GarageQual':'NA','GarageCond':'NA','PoolQC':'NA','Fence':'NA','MiscFeature':'NA','Exterior2nd':'NA','Functional':'Typ'})\n",
    "cate=['MSZoning','Exterior1st','MasVnrType','Electrical','KitchenQual','Functional','GarageYrBlt','SaleType']\n",
    "for item in cate:\n",
    "    data[item]=data[item].fillna(data[item].value_counts().index[0])\n",
    "data=data.drop(['Utilities'],axis=1)\n",
    "data=data.drop(['KitchenAbvGr'],axis=1)\n",
    "tem=np.where(data['MasVnrType']=='None',0,data['MasVnrArea'])\n",
    "data['MasVnrArea']=data['MasVnrArea'].fillna(pd.Series(tem))\n",
    "tem=np.where(data['BsmtFinType1']=='NA',0,data['BsmtFinSF1'])\n",
    "data['BsmtFinSF1']=data['BsmtFinSF1'].fillna(pd.Series(tem))\n",
    "tem=np.where(data['BsmtFinType2']=='NA',0,data['BsmtFinSF2'])\n",
    "data['BsmtFinSF2']=data['BsmtFinSF2'].fillna(pd.Series(tem))\n",
    "tem=np.where(data['BsmtQual']=='NA',0,data['BsmtUnfSF'])\n",
    "data['BsmtUnfSF']=data['BsmtUnfSF'].fillna(pd.Series(tem))\n",
    "tem=np.where(data['BsmtQual']=='NA',0,data['BsmtHalfBath'])\n",
    "data['BsmtHalfBath']=data['BsmtHalfBath'].fillna(pd.Series(tem))\n",
    "tem=np.where(data['BsmtQual']=='NA',0,data['BsmtFullBath'])\n",
    "data['BsmtFullBath']=data['BsmtFullBath'].fillna(pd.Series(tem))\n",
    "tem=np.where(data['GarageType']=='NA',0,data['GarageCars'])\n",
    "data['GarageCars']=data['GarageCars'].fillna(pd.Series(tem))\n",
    "tem=np.where(data['GarageType']=='NA',0,data['GarageArea'])\n",
    "data['GarageArea']=data['GarageArea'].fillna(pd.Series(tem))\n",
    "data['LotFrontage']=data.groupby('Neighborhood')[\"LotFrontage\"].transform(lambda x: x.fillna(x.median()))\n",
    "data['TotalBsmtSF']=(data['BsmtFinSF1']+data['BsmtFinSF2']+data['BsmtUnfSF'])\n",
    "data['TotalSF']=data['TotalBsmtSF']+data['1stFlrSF']+data['2ndFlrSF']\n",
    "data['Total_sqr_footage'] = (data['BsmtFinSF1']+data['BsmtFinSF2']+data['1stFlrSF']+data['2ndFlrSF'])\n",
    "data['Total_Bathrooms'] = (data['FullBath'] + (0.5*data['HalfBath'])+data['BsmtFullBath']+(0.5*data['BsmtHalfBath']))\n",
    "data['Total_porch_sf'] = (data['OpenPorchSF']+data['3SsnPorch']+data['EnclosedPorch'] + data['ScreenPorch']+data['WoodDeckSF'])\n",
    "data['MSSubClass'] = data['MSSubClass'].apply(str)\n",
    "data['OverallCond'] = data['OverallCond'].astype(str)\n",
    "#data['KitchenAbvGr']=data['KitchenAbvGr'].fillna(data['KitchenAbvGr'].value_counts().index[0])\n",
    "tem=np.where(data['YrSold']>data['GarageYrBlt'],data['YrSold'],np.where(data['GarageYrBlt']>data['YearRemodAdd'],data['GarageYrBlt'],data['YearRemodAdd']))\n",
    "data['age']=tem-data['YearBuilt']\n",
    "data['YearBuilt']=data['YearBuilt'].astype(str)\n",
    "data['YrSold'] = data['YrSold'].astype(str)\n",
    "data['MoSold'] = data['MoSold'].astype(str)\n",
    "od=['MSZoning','LotShape','LandContour','LandSlope','OverallCond','ExterQual','ExterCond','BsmtQual','BsmtCond','BsmtExposure','BsmtFinType1', 'BsmtFinType2','HeatingQC','CentralAir','Electrical','KitchenQual','Functional','FireplaceQu','GarageType','GarageFinish','GarageQual', 'GarageCond', 'PavedDrive','PoolQC','Fence','MiscFeature','SaleType','SaleCondition']\n",
    "dm=['MSSubClass','Street','Alley','LotConfig','Neighborhood','Condition1','Condition2','BldgType','HouseStyle','RoofStyle','RoofMatl', 'Exterior1st', 'Exterior2nd','MasVnrType','Foundation','Heating']\n",
    "data=pd.get_dummies(data,columns=dm)\n",
    "from sklearn.preprocessing import LabelEncoder\n",
    "for col in data.select_dtypes('object').columns:\n",
    "    ce=['YearBuilt','YrSold','GarageYrBlt','YearRemodAdd']\n",
    "    if col not in ce:\n",
    "        if col in od:\n",
    "            le=LabelEncoder()\n",
    "            data[col]=le.fit_transform(data[col])\n",
    "        else:\n",
    "            continue\n",
    "    else:\n",
    "        continue\n",
    "data2=data.iloc[1460:,:]\n",
    "data=data.iloc[0:1460,:]\n",
    "data=data.join(temp)\n",
    "num_feat,cat_feat=get_cat_num_features(data)\n",
    "outlier_df = get_outliers(data, num_feat)\n",
    "data=remove_outliers(data,outlier_df,num_feat)"
   ]
  },
  {
   "cell_type": "code",
   "execution_count": 136,
   "metadata": {
    "pycharm": {
     "name": "#%%\n"
    }
   },
   "outputs": [
    {
     "name": "stdout",
     "output_type": "stream",
     "text": [
      "TotalBsmtSF          0.645251\n",
      "GarageArea           0.660029\n",
      "Total_Bathrooms      0.666131\n",
      "GarageCars           0.675896\n",
      "GrLivArea            0.729311\n",
      "Total_sqr_footage    0.744944\n",
      "OverallQual          0.817680\n",
      "TotalSF              0.827890\n",
      "SalePrice            1.000000\n",
      "MSSubClass_150            NaN\n",
      "Exterior2nd_NA            NaN\n",
      "Name: SalePrice, dtype: float64\n"
     ]
    }
   ],
   "source": [
    "import seaborn as sns\n",
    "from sklearn.model_selection import train_test_split\n",
    "from sklearn.linear_model import LinearRegression\n",
    "from sklearn import metrics\n",
    "%matplotlib inline\n",
    "c=data.corr()\n",
    "print(c['SalePrice'].sort_values().tail(11))\n",
    "x=data.iloc[:,:-1]\n",
    "y=data.iloc[:,-1]\n",
    "x_train, x_test, y_train, y_test = train_test_split(x, y, test_size=0.2, random_state=0)"
   ]
  },
  {
   "cell_type": "code",
   "execution_count": 137,
   "metadata": {
    "pycharm": {
     "name": "#%%\n"
    }
   },
   "outputs": [
    {
     "name": "stdout",
     "output_type": "stream",
     "text": [
      "Mean Absolute Error: 0.19355965260963767\n",
      "Mean Squared Error: 0.07763445435962789\n",
      "Root Mean Squared Error: 0.27862960065224207\n",
      "R-squared Error: 0.8223799693764585\n"
     ]
    }
   ],
   "source": [
    "regressor = LinearRegression()\n",
    "regressor.fit(x_train[['LotArea','OverallQual','OverallCond','YearRemodAdd','BsmtQual','GarageType','GarageCars','TotalSF','Total_sqr_footage','Total_Bathrooms']],y_train/100000)\n",
    "y_pred=regressor.predict(x_test[['LotArea','OverallQual','OverallCond','YearRemodAdd','BsmtQual','GarageType','GarageCars','TotalSF','Total_sqr_footage','Total_Bathrooms']])\n",
    "print('Mean Absolute Error:', metrics.mean_absolute_error(y_test/100000, y_pred))\n",
    "print('Mean Squared Error:', metrics.mean_squared_error(y_test/100000, y_pred))\n",
    "print('Root Mean Squared Error:', np.sqrt(metrics.mean_squared_error(y_test/100000, y_pred)))\n",
    "print('R-squared Error:', metrics.r2_score(y_test/100000, y_pred))\n",
    "x_2=data2[['LotArea','OverallQual','OverallCond','YearRemodAdd','BsmtQual','GarageType','GarageCars','TotalSF','Total_sqr_footage','Total_Bathrooms']]\n",
    "y_pred=regressor.predict(x_2)\n",
    "my_submission = pd.DataFrame({'Id': data2.index, 'SalePrice': (100000*y_pred)})\n",
    "my_submission.to_csv('submission.csv', index=False)"
   ]
  },
  {
   "cell_type": "code",
   "execution_count": 138,
   "metadata": {
    "pycharm": {
     "name": "#%%\n"
    }
   },
   "outputs": [
    {
     "name": "stdout",
     "output_type": "stream",
     "text": [
      "Mean Absolute Error: 0.23055684931506853\n",
      "Mean Squared Error: 0.10509323406284246\n",
      "Root Mean Squared Error: 0.32418086628122034\n",
      "R-squared Error: 0.7595569698203961\n"
     ]
    }
   ],
   "source": [
    "from sklearn.tree import DecisionTreeRegressor\n",
    "from sklearn import metrics\n",
    "dt = DecisionTreeRegressor()\n",
    "dt.fit(x_train[['LotArea','OverallQual','OverallCond','YearRemodAdd','BsmtQual','GarageType','GarageCars','TotalSF','Total_sqr_footage','Total_Bathrooms']],y_train/100000)\n",
    "y_pred=dt.predict(x_test[['LotArea','OverallQual','OverallCond','YearRemodAdd','BsmtQual','GarageType','GarageCars','TotalSF','Total_sqr_footage','Total_Bathrooms']])\n",
    "print('Mean Absolute Error:', metrics.mean_absolute_error(y_test/100000, y_pred))\n",
    "print('Mean Squared Error:', metrics.mean_squared_error(y_test/100000, y_pred))\n",
    "print('Root Mean Squared Error:', np.sqrt(metrics.mean_squared_error(y_test/100000, y_pred)))\n",
    "print('R-squared Error:', metrics.r2_score(y_test/100000, y_pred))"
   ]
  },
  {
   "cell_type": "code",
   "execution_count": null,
   "metadata": {
    "pycharm": {
     "name": "#%%\n"
    }
   },
   "outputs": [],
   "source": []
  }
 ],
 "metadata": {
  "kernelspec": {
   "display_name": "Python 3",
   "language": "python",
   "name": "python3"
  },
  "language_info": {
   "codemirror_mode": {
    "name": "ipython",
    "version": 3
   },
   "file_extension": ".py",
   "mimetype": "text/x-python",
   "name": "python",
   "nbconvert_exporter": "python",
   "pygments_lexer": "ipython3",
   "version": "3.8.5"
  }
 },
 "nbformat": 4,
 "nbformat_minor": 1
}
