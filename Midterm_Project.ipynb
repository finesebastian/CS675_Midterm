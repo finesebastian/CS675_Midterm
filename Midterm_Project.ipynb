{
 "cells": [
  {
   "cell_type": "code",
   "execution_count": 38,
   "metadata": {
    "pycharm": {
     "name": "#%%\n"
    }
   },
   "outputs": [],
   "source": [
    "import matplotlib.pyplot as plt\n",
    "import pandas as pd\n",
    "import numpy as np\n",
    "from scipy.stats import iqr\n",
    "from sklearn.preprocessing import LabelEncoder"
   ]
  },
  {
   "cell_type": "code",
   "execution_count": 39,
   "metadata": {
    "pycharm": {
     "name": "#%%\n"
    }
   },
   "outputs": [],
   "source": [
    "def get_cat_num_features(df):\n",
    "    num_features = []\n",
    "    cat_features = []\n",
    "    for col in df.columns:\n",
    "        if df[col].dtype==\"float64\" or df[col].dtype==\"int64\":\n",
    "            num_features.append(col)\n",
    "        else:\n",
    "            cat_features.append(col)\n",
    "    return num_features, cat_features\n",
    "def get_outliers(df, num_feat):\n",
    "    outlier_df = pd.DataFrame(columns=['Feature', 'Total Outliers','Upper limit', 'Lower limit'])\n",
    "    for col in num_feat:\n",
    "        lower=np.percentile(df[col],25)-(1.5*iqr(df[col]))\n",
    "        upper=np.percentile(df[col],75)+(1.5*iqr(df[col]))\n",
    "        upper_outliers = df[df[col] > upper]\n",
    "        lower_outliers = df[df[col] < lower]\n",
    "        total=lower_outliers.shape[0]+upper_outliers.shape[0]\n",
    "        if (total!=0) and (upper!=0 and lower!=0):\n",
    "            outlier_df = outlier_df.append({'Feature':col, 'Total Outliers': total,'Upper limit': upper, 'Lower limit':lower}, ignore_index=True)\n",
    "    return outlier_df\n",
    "def remove_outliers(df, outlier_df, num_feat):\n",
    "    for col in outlier_df['Feature'].to_list():\n",
    "        upper = outlier_df[outlier_df['Feature']== col ]['Upper limit'].values[0]\n",
    "        lower = outlier_df[outlier_df['Feature']== col ]['Lower limit'].values[0]\n",
    "        df[col] = np.where(df[col]>upper, upper, df[col])\n",
    "        df[col] = np.where(df[col]<lower, lower, df[col])\n",
    "    return df"
   ]
  },
  {
   "cell_type": "code",
   "execution_count": 40,
   "metadata": {
    "pycharm": {
     "name": "#%%\n"
    }
   },
   "outputs": [
    {
     "data": {
      "text/plain": "       LotFrontage       LotArea     LotShape  LandContour    LandSlope  \\\ncount  1460.000000   1460.000000  1460.000000  1460.000000  1460.000000   \nmean     69.468151   9648.871233     1.942466     2.777397     0.062329   \nstd      18.024406   3598.128683     1.409156     0.707666     0.276232   \nmin      30.000000   1340.000000     0.000000     0.000000     0.000000   \n25%      60.000000   7553.500000     0.000000     3.000000     0.000000   \n50%      70.000000   9478.500000     3.000000     3.000000     0.000000   \n75%      80.000000  11601.500000     3.000000     3.000000     0.000000   \nmax     110.000000  17708.000000     3.000000     3.000000     2.000000   \n\n       OverallQual  OverallCond   MasVnrArea    ExterQual    ExterCond  ...  \\\ncount  1460.000000  1460.000000  1460.000000  1460.000000  1460.000000  ...   \nmean      6.100685     4.575342    89.795205     2.539726     3.733562  ...   \nstd       1.378430     1.112799   134.181252     0.693995     0.731807  ...   \nmin       2.000000     0.000000     0.000000     0.000000     0.000000  ...   \n25%       5.000000     4.000000     0.000000     2.000000     4.000000  ...   \n50%       6.000000     4.000000     0.000000     3.000000     4.000000  ...   \n75%       7.000000     5.000000   166.000000     3.000000     4.000000  ...   \nmax      10.000000     8.000000   410.000000     3.000000     4.000000  ...   \n\n       YearRemodAdd_2002  YearRemodAdd_2003  YearRemodAdd_2004  \\\ncount        1460.000000        1460.000000        1460.000000   \nmean            0.032877           0.034932           0.042466   \nstd             0.178375           0.183669           0.201718   \nmin             0.000000           0.000000           0.000000   \n25%             0.000000           0.000000           0.000000   \n50%             0.000000           0.000000           0.000000   \n75%             0.000000           0.000000           0.000000   \nmax             1.000000           1.000000           1.000000   \n\n       YearRemodAdd_2005  YearRemodAdd_2006  YearRemodAdd_2007  \\\ncount         1460.00000        1460.000000        1460.000000   \nmean             0.05000           0.066438           0.052055   \nstd              0.21802           0.249132           0.222214   \nmin              0.00000           0.000000           0.000000   \n25%              0.00000           0.000000           0.000000   \n50%              0.00000           0.000000           0.000000   \n75%              0.00000           0.000000           0.000000   \nmax              1.00000           1.000000           1.000000   \n\n       YearRemodAdd_2008  YearRemodAdd_2009  YearRemodAdd_2010      SalePrice  \ncount        1460.000000        1460.000000        1460.000000    1460.000000  \nmean            0.027397           0.015753           0.004110  180921.195890  \nstd             0.163294           0.124563           0.063996   79442.502883  \nmin             0.000000           0.000000           0.000000   34900.000000  \n25%             0.000000           0.000000           0.000000  129975.000000  \n50%             0.000000           0.000000           0.000000  163000.000000  \n75%             0.000000           0.000000           0.000000  214000.000000  \nmax             1.000000           1.000000           1.000000  755000.000000  \n\n[8 rows x 483 columns]",
      "text/html": "<div>\n<style scoped>\n    .dataframe tbody tr th:only-of-type {\n        vertical-align: middle;\n    }\n\n    .dataframe tbody tr th {\n        vertical-align: top;\n    }\n\n    .dataframe thead th {\n        text-align: right;\n    }\n</style>\n<table border=\"1\" class=\"dataframe\">\n  <thead>\n    <tr style=\"text-align: right;\">\n      <th></th>\n      <th>LotFrontage</th>\n      <th>LotArea</th>\n      <th>LotShape</th>\n      <th>LandContour</th>\n      <th>LandSlope</th>\n      <th>OverallQual</th>\n      <th>OverallCond</th>\n      <th>MasVnrArea</th>\n      <th>ExterQual</th>\n      <th>ExterCond</th>\n      <th>...</th>\n      <th>YearRemodAdd_2002</th>\n      <th>YearRemodAdd_2003</th>\n      <th>YearRemodAdd_2004</th>\n      <th>YearRemodAdd_2005</th>\n      <th>YearRemodAdd_2006</th>\n      <th>YearRemodAdd_2007</th>\n      <th>YearRemodAdd_2008</th>\n      <th>YearRemodAdd_2009</th>\n      <th>YearRemodAdd_2010</th>\n      <th>SalePrice</th>\n    </tr>\n  </thead>\n  <tbody>\n    <tr>\n      <th>count</th>\n      <td>1460.000000</td>\n      <td>1460.000000</td>\n      <td>1460.000000</td>\n      <td>1460.000000</td>\n      <td>1460.000000</td>\n      <td>1460.000000</td>\n      <td>1460.000000</td>\n      <td>1460.000000</td>\n      <td>1460.000000</td>\n      <td>1460.000000</td>\n      <td>...</td>\n      <td>1460.000000</td>\n      <td>1460.000000</td>\n      <td>1460.000000</td>\n      <td>1460.00000</td>\n      <td>1460.000000</td>\n      <td>1460.000000</td>\n      <td>1460.000000</td>\n      <td>1460.000000</td>\n      <td>1460.000000</td>\n      <td>1460.000000</td>\n    </tr>\n    <tr>\n      <th>mean</th>\n      <td>69.468151</td>\n      <td>9648.871233</td>\n      <td>1.942466</td>\n      <td>2.777397</td>\n      <td>0.062329</td>\n      <td>6.100685</td>\n      <td>4.575342</td>\n      <td>89.795205</td>\n      <td>2.539726</td>\n      <td>3.733562</td>\n      <td>...</td>\n      <td>0.032877</td>\n      <td>0.034932</td>\n      <td>0.042466</td>\n      <td>0.05000</td>\n      <td>0.066438</td>\n      <td>0.052055</td>\n      <td>0.027397</td>\n      <td>0.015753</td>\n      <td>0.004110</td>\n      <td>180921.195890</td>\n    </tr>\n    <tr>\n      <th>std</th>\n      <td>18.024406</td>\n      <td>3598.128683</td>\n      <td>1.409156</td>\n      <td>0.707666</td>\n      <td>0.276232</td>\n      <td>1.378430</td>\n      <td>1.112799</td>\n      <td>134.181252</td>\n      <td>0.693995</td>\n      <td>0.731807</td>\n      <td>...</td>\n      <td>0.178375</td>\n      <td>0.183669</td>\n      <td>0.201718</td>\n      <td>0.21802</td>\n      <td>0.249132</td>\n      <td>0.222214</td>\n      <td>0.163294</td>\n      <td>0.124563</td>\n      <td>0.063996</td>\n      <td>79442.502883</td>\n    </tr>\n    <tr>\n      <th>min</th>\n      <td>30.000000</td>\n      <td>1340.000000</td>\n      <td>0.000000</td>\n      <td>0.000000</td>\n      <td>0.000000</td>\n      <td>2.000000</td>\n      <td>0.000000</td>\n      <td>0.000000</td>\n      <td>0.000000</td>\n      <td>0.000000</td>\n      <td>...</td>\n      <td>0.000000</td>\n      <td>0.000000</td>\n      <td>0.000000</td>\n      <td>0.00000</td>\n      <td>0.000000</td>\n      <td>0.000000</td>\n      <td>0.000000</td>\n      <td>0.000000</td>\n      <td>0.000000</td>\n      <td>34900.000000</td>\n    </tr>\n    <tr>\n      <th>25%</th>\n      <td>60.000000</td>\n      <td>7553.500000</td>\n      <td>0.000000</td>\n      <td>3.000000</td>\n      <td>0.000000</td>\n      <td>5.000000</td>\n      <td>4.000000</td>\n      <td>0.000000</td>\n      <td>2.000000</td>\n      <td>4.000000</td>\n      <td>...</td>\n      <td>0.000000</td>\n      <td>0.000000</td>\n      <td>0.000000</td>\n      <td>0.00000</td>\n      <td>0.000000</td>\n      <td>0.000000</td>\n      <td>0.000000</td>\n      <td>0.000000</td>\n      <td>0.000000</td>\n      <td>129975.000000</td>\n    </tr>\n    <tr>\n      <th>50%</th>\n      <td>70.000000</td>\n      <td>9478.500000</td>\n      <td>3.000000</td>\n      <td>3.000000</td>\n      <td>0.000000</td>\n      <td>6.000000</td>\n      <td>4.000000</td>\n      <td>0.000000</td>\n      <td>3.000000</td>\n      <td>4.000000</td>\n      <td>...</td>\n      <td>0.000000</td>\n      <td>0.000000</td>\n      <td>0.000000</td>\n      <td>0.00000</td>\n      <td>0.000000</td>\n      <td>0.000000</td>\n      <td>0.000000</td>\n      <td>0.000000</td>\n      <td>0.000000</td>\n      <td>163000.000000</td>\n    </tr>\n    <tr>\n      <th>75%</th>\n      <td>80.000000</td>\n      <td>11601.500000</td>\n      <td>3.000000</td>\n      <td>3.000000</td>\n      <td>0.000000</td>\n      <td>7.000000</td>\n      <td>5.000000</td>\n      <td>166.000000</td>\n      <td>3.000000</td>\n      <td>4.000000</td>\n      <td>...</td>\n      <td>0.000000</td>\n      <td>0.000000</td>\n      <td>0.000000</td>\n      <td>0.00000</td>\n      <td>0.000000</td>\n      <td>0.000000</td>\n      <td>0.000000</td>\n      <td>0.000000</td>\n      <td>0.000000</td>\n      <td>214000.000000</td>\n    </tr>\n    <tr>\n      <th>max</th>\n      <td>110.000000</td>\n      <td>17708.000000</td>\n      <td>3.000000</td>\n      <td>3.000000</td>\n      <td>2.000000</td>\n      <td>10.000000</td>\n      <td>8.000000</td>\n      <td>410.000000</td>\n      <td>3.000000</td>\n      <td>4.000000</td>\n      <td>...</td>\n      <td>1.000000</td>\n      <td>1.000000</td>\n      <td>1.000000</td>\n      <td>1.00000</td>\n      <td>1.000000</td>\n      <td>1.000000</td>\n      <td>1.000000</td>\n      <td>1.000000</td>\n      <td>1.000000</td>\n      <td>755000.000000</td>\n    </tr>\n  </tbody>\n</table>\n<p>8 rows × 483 columns</p>\n</div>"
     },
     "execution_count": 40,
     "metadata": {},
     "output_type": "execute_result"
    }
   ],
   "source": [
    "data=pd.read_csv('house-prices-advanced-regression-techniques/train.csv',index_col='Id')\n",
    "data2=pd.read_csv('house-prices-advanced-regression-techniques/test.csv',index_col='Id')\n",
    "temp=data['SalePrice']\n",
    "data=data.drop(['SalePrice'],axis=1)\n",
    "data=pd.concat([data,data2])\n",
    "data=data.fillna({'Alley':'NA','BsmtQual':'NA','BsmtCond':'NA','BsmtExposure':'NA','BsmtFinType1':'NA','BsmtFinType2':'NA','FireplaceQu':'NA','GarageType':'NA','GarageFinish':'NA','GarageQual':'NA','GarageCond':'NA','PoolQC':'NA','Fence':'NA','MiscFeature':'NA','Exterior2nd':'NA','Functional':'Typ'})\n",
    "cate=['MSZoning','Exterior1st','MasVnrType','Electrical','KitchenQual','Functional','GarageYrBlt','SaleType']\n",
    "for item in cate:\n",
    "    data[item]=data[item].fillna(data[item].value_counts().index[0])\n",
    "data=data.drop(['Utilities'],axis=1)\n",
    "data=data.drop(['KitchenAbvGr'],axis=1)\n",
    "tem=np.where(data['MasVnrType']=='None',0,data['MasVnrArea'])\n",
    "data['MasVnrArea']=data['MasVnrArea'].fillna(pd.Series(tem))\n",
    "tem=np.where(data['BsmtFinType1']=='NA',0,data['BsmtFinSF1'])\n",
    "data['BsmtFinSF1']=data['BsmtFinSF1'].fillna(pd.Series(tem))\n",
    "tem=np.where(data['BsmtFinType2']=='NA',0,data['BsmtFinSF2'])\n",
    "data['BsmtFinSF2']=data['BsmtFinSF2'].fillna(pd.Series(tem))\n",
    "tem=np.where(data['BsmtQual']=='NA',0,data['BsmtUnfSF'])\n",
    "data['BsmtUnfSF']=data['BsmtUnfSF'].fillna(pd.Series(tem))\n",
    "tem=np.where(data['BsmtQual']=='NA',0,data['BsmtHalfBath'])\n",
    "data['BsmtHalfBath']=data['BsmtHalfBath'].fillna(pd.Series(tem))\n",
    "tem=np.where(data['BsmtQual']=='NA',0,data['BsmtFullBath'])\n",
    "data['BsmtFullBath']=data['BsmtFullBath'].fillna(pd.Series(tem))\n",
    "tem=np.where(data['GarageType']=='NA',0,data['GarageCars'])\n",
    "data['GarageCars']=data['GarageCars'].fillna(pd.Series(tem))\n",
    "tem=np.where(data['GarageType']=='NA',0,data['GarageArea'])\n",
    "data['GarageArea']=data['GarageArea'].fillna(pd.Series(tem))\n",
    "data['LotFrontage']=data.groupby('Neighborhood')[\"LotFrontage\"].transform(lambda x: x.fillna(x.median()))\n",
    "data['TotalBsmtSF']=(data['BsmtFinSF1']+data['BsmtFinSF2']+data['BsmtUnfSF'])\n",
    "data['TotalSF']=data['TotalBsmtSF']+data['1stFlrSF']+data['2ndFlrSF']\n",
    "data['Total_sqr_footage'] = (data['BsmtFinSF1']+data['BsmtFinSF2']+data['1stFlrSF']+data['2ndFlrSF'])\n",
    "data['Total_Bathrooms'] = (data['FullBath'] + (0.5*data['HalfBath'])+data['BsmtFullBath']+(0.5*data['BsmtHalfBath']))\n",
    "data['Total_porch_sf'] = (data['OpenPorchSF']+data['3SsnPorch']+data['EnclosedPorch'] + data['ScreenPorch']+data['WoodDeckSF'])\n",
    "data=data.drop(columns=['BsmtFinSF1','BsmtFinSF2','1stFlrSF','2ndFlrSF','FullBath','HalfBath','BsmtFullBath','BsmtHalfBath','OpenPorchSF','3SsnPorch','EnclosedPorch','ScreenPorch','WoodDeckSF'])\n",
    "data['MSSubClass'] = data['MSSubClass'].apply(str)\n",
    "data['OverallCond'] = data['OverallCond'].astype(str)\n",
    "tem=np.where(data['YrSold']>data['GarageYrBlt'],data['YrSold'],np.where(data['GarageYrBlt']>data['YearRemodAdd'],data['GarageYrBlt'],data['YearRemodAdd']))\n",
    "data['age']=tem-data['YearBuilt']\n",
    "data['YearRemodAdd']=data['YearRemodAdd'].astype(str)\n",
    "data['YearBuilt']=data['YearBuilt'].astype(str)\n",
    "data['GarageYrBlt']=data['GarageYrBlt'].astype(str)\n",
    "data['YrSold'] = data['YrSold'].astype(str)\n",
    "data['MoSold'] = data['MoSold'].astype(str)\n",
    "od=['LotShape','LandContour','LandSlope','OverallCond','ExterQual','ExterCond','BsmtQual','BsmtCond','BsmtExposure','BsmtFinType1', 'BsmtFinType2','HeatingQC','CentralAir','Electrical','KitchenQual','Functional','FireplaceQu','GarageType','GarageFinish','GarageQual', 'GarageCond', 'PavedDrive','PoolQC','Fence','MiscFeature','SaleType','SaleCondition']\n",
    "dm=['MSSubClass','MSZoning','Street','Alley','LotConfig','Neighborhood','Condition1','Condition2','BldgType','HouseStyle','RoofStyle','RoofMatl', 'Exterior1st', 'Exterior2nd','MasVnrType','Foundation','Heating','YearBuilt','YrSold','GarageYrBlt','YearRemodAdd']\n",
    "num_feat,_=get_cat_num_features(data)\n",
    "data=pd.get_dummies(data,columns=dm)\n",
    "from sklearn.preprocessing import LabelEncoder\n",
    "for col in data.select_dtypes('object').columns:\n",
    "    if col in od:\n",
    "        le=LabelEncoder()\n",
    "        data[col]=le.fit_transform(data[col])\n",
    "    else:\n",
    "        continue\n",
    "outlier_df = get_outliers(data, num_feat)\n",
    "data=remove_outliers(data,outlier_df,num_feat)\n",
    "data2=data.iloc[1460:,:]\n",
    "data=data.iloc[0:1460,:]\n",
    "data=data.join(temp)\n",
    "outlier_df\n",
    "data.head()\n",
    "data.describe()"
   ]
  },
  {
   "cell_type": "code",
   "execution_count": 41,
   "metadata": {
    "pycharm": {
     "name": "#%%\n"
    }
   },
   "outputs": [
    {
     "name": "stdout",
     "output_type": "stream",
     "text": [
      "Index(['Foundation_PConc', 'TotRmsAbvGrd', 'GarageArea', 'Total_Bathrooms',\n",
      "       'TotalBsmtSF', 'GarageCars', 'GrLivArea', 'Total_sqr_footage',\n",
      "       'OverallQual', 'TotalSF', 'SalePrice'],\n",
      "      dtype='object')\n"
     ]
    }
   ],
   "source": [
    "import seaborn as sns\n",
    "from sklearn.model_selection import train_test_split\n",
    "from sklearn.linear_model import LinearRegression\n",
    "from sklearn import metrics\n",
    "%matplotlib inline\n",
    "c=data.corr()\n",
    "print(c[c['SalePrice']>=0.49]['SalePrice'].sort_values().tail(11).index)\n",
    "x=data.iloc[:,:-1]\n",
    "y=data.iloc[:,-1]\n",
    "x_train, x_test, y_train, y_test = train_test_split(x, y, test_size=0.2, random_state=42)"
   ]
  },
  {
   "cell_type": "code",
   "execution_count": 42,
   "metadata": {
    "pycharm": {
     "name": "#%%\n"
    }
   },
   "outputs": [
    {
     "name": "stdout",
     "output_type": "stream",
     "text": [
      "Mean Absolute Error: 0.2463773599860386\n",
      "Mean Squared Error: 0.1695312791401654\n",
      "Root Mean Squared Error: 0.4117417626864749\n",
      "R-squared Error: 0.77897774545584\n",
      "[1.15920169 1.70868998 1.80509885 ... 1.65649593 1.05731567 2.53245366]\n"
     ]
    }
   ],
   "source": [
    "regressor = LinearRegression()\n",
    "regressor.fit(x_train[['Foundation_PConc', 'TotRmsAbvGrd', 'GarageArea', 'Total_Bathrooms','TotalBsmtSF', 'GarageCars', 'GrLivArea', 'Total_sqr_footage','OverallQual', 'TotalSF']],y_train/100000)\n",
    "y_pred=regressor.predict(x_test[['Foundation_PConc', 'TotRmsAbvGrd', 'GarageArea', 'Total_Bathrooms','TotalBsmtSF', 'GarageCars', 'GrLivArea', 'Total_sqr_footage','OverallQual', 'TotalSF']])\n",
    "print('Mean Absolute Error:', metrics.mean_absolute_error(y_test/100000, y_pred))\n",
    "print('Mean Squared Error:', metrics.mean_squared_error(y_test/100000, y_pred))\n",
    "print('Root Mean Squared Error:', np.sqrt(metrics.mean_squared_error(y_test/100000, y_pred)))\n",
    "print('R-squared Error:', metrics.r2_score(y_test/100000, y_pred))\n",
    "x_2=data2[['Foundation_PConc', 'TotRmsAbvGrd', 'GarageArea', 'Total_Bathrooms','TotalBsmtSF', 'GarageCars', 'GrLivArea', 'Total_sqr_footage','OverallQual', 'TotalSF']]\n",
    "y_pred=regressor.predict(x_2)\n",
    "print(y_pred)\n",
    "my_submission = pd.DataFrame({'Id': data2.index, 'SalePrice': 100000*y_pred})\n",
    "my_submission.to_csv('submission.csv', index=False)"
   ]
  },
  {
   "cell_type": "code",
   "execution_count": 43,
   "metadata": {
    "pycharm": {
     "name": "#%%\n"
    }
   },
   "outputs": [
    {
     "name": "stdout",
     "output_type": "stream",
     "text": [
      "Mean Absolute Error: 0.11825479380459407\n",
      "Mean Squared Error: 0.028280509094734094\n",
      "Root Mean Squared Error: 0.16816809773180552\n",
      "R-squared Error: 0.8484541240084942\n",
      "[0.13641684 0.41714337 0.52842757 ... 0.41825464 0.09191635 0.89494079]\n"
     ]
    }
   ],
   "source": [
    "regressor = LinearRegression()\n",
    "regressor.fit(x_train[['Foundation_PConc', 'TotRmsAbvGrd', 'GarageArea', 'Total_Bathrooms','TotalBsmtSF', 'GarageCars', 'GrLivArea', 'Total_sqr_footage','OverallQual', 'TotalSF']],np.log(y_train/100000))\n",
    "y_pred=regressor.predict(x_test[['Foundation_PConc', 'TotRmsAbvGrd', 'GarageArea', 'Total_Bathrooms','TotalBsmtSF', 'GarageCars', 'GrLivArea', 'Total_sqr_footage','OverallQual', 'TotalSF']])\n",
    "print('Mean Absolute Error:', metrics.mean_absolute_error(np.log(y_test/100000), y_pred))\n",
    "print('Mean Squared Error:', metrics.mean_squared_error(np.log(y_test/100000), y_pred))\n",
    "print('Root Mean Squared Error:', np.sqrt(metrics.mean_squared_error(np.log(y_test/100000), y_pred)))\n",
    "print('R-squared Error:', metrics.r2_score(np.log(y_test/100000), y_pred))\n",
    "x_2=data2[['Foundation_PConc', 'TotRmsAbvGrd', 'GarageArea', 'Total_Bathrooms','TotalBsmtSF', 'GarageCars', 'GrLivArea', 'Total_sqr_footage','OverallQual', 'TotalSF']]\n",
    "y_pred=regressor.predict(x_2)\n",
    "print(y_pred)\n",
    "my_submission = pd.DataFrame({'Id': data2.index, 'SalePrice': 100000*np.exp(y_pred)})\n",
    "my_submission.to_csv('submission.csv', index=False)"
   ]
  }
 ],
 "metadata": {
  "kernelspec": {
   "display_name": "PyCharm (CS675)",
   "language": "python",
   "name": "pycharm-3f539605"
  },
  "language_info": {
   "codemirror_mode": {
    "name": "ipython",
    "version": 3
   },
   "file_extension": ".py",
   "mimetype": "text/x-python",
   "name": "python",
   "nbconvert_exporter": "python",
   "pygments_lexer": "ipython3",
   "version": "3.9.6"
  }
 },
 "nbformat": 4,
 "nbformat_minor": 1
}