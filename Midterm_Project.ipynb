{
 "cells": [
  {
   "cell_type": "code",
   "execution_count": 86,
   "metadata": {
    "pycharm": {
     "name": "#%%\n"
    }
   },
   "outputs": [],
   "source": [
    "import pandas as pd\n",
    "import numpy as np"
   ]
  },
  {
   "cell_type": "code",
   "execution_count": 87,
   "metadata": {
    "pycharm": {
     "name": "#%%\n"
    }
   },
   "outputs": [],
   "source": [
    "training=pd.read_csv('house-prices-advanced-regression-techniques/train.csv',index_col='Id')\n",
    "test_x=pd.read_csv('house-prices-advanced-regression-techniques/test.csv',index_col='Id')\n",
    "train_x=training.iloc[:,:-1]\n",
    "train_y=training.iloc[:,-1]\n",
    "test_y=pd.read_csv('house-prices-advanced-regression-techniques/sample_submission.csv',index_col='Id')"
   ]
  },
  {
   "cell_type": "code",
   "execution_count": 88,
   "metadata": {
    "pycharm": {
     "name": "#%%\n"
    }
   },
   "outputs": [
    {
     "data": {
      "text/plain": "    MSSubClass MSZoning  LotFrontage  LotArea Street Alley LotShape  \\\nId                                                                    \n1           60       RL         65.0     8450   Pave    NA      Reg   \n2           20       RL         80.0     9600   Pave    NA      Reg   \n3           60       RL         68.0    11250   Pave    NA      IR1   \n4           70       RL         60.0     9550   Pave    NA      IR1   \n5           60       RL         84.0    14260   Pave    NA      IR1   \n\n   LandContour Utilities LotConfig  ... PoolArea PoolQC Fence MiscFeature  \\\nId                                  ...                                     \n1          Lvl    AllPub    Inside  ...        0     NA    NA          NA   \n2          Lvl    AllPub       FR2  ...        0     NA    NA          NA   \n3          Lvl    AllPub    Inside  ...        0     NA    NA          NA   \n4          Lvl    AllPub    Corner  ...        0     NA    NA          NA   \n5          Lvl    AllPub       FR2  ...        0     NA    NA          NA   \n\n   MiscVal MoSold  YrSold  SaleType  SaleCondition  SalePrice  \nId                                                             \n1        0      2    2008        WD         Normal     208500  \n2        0      5    2007        WD         Normal     181500  \n3        0      9    2008        WD         Normal     223500  \n4        0      2    2006        WD        Abnorml     140000  \n5        0     12    2008        WD         Normal     250000  \n\n[5 rows x 80 columns]",
      "text/html": "<div>\n<style scoped>\n    .dataframe tbody tr th:only-of-type {\n        vertical-align: middle;\n    }\n\n    .dataframe tbody tr th {\n        vertical-align: top;\n    }\n\n    .dataframe thead th {\n        text-align: right;\n    }\n</style>\n<table border=\"1\" class=\"dataframe\">\n  <thead>\n    <tr style=\"text-align: right;\">\n      <th></th>\n      <th>MSSubClass</th>\n      <th>MSZoning</th>\n      <th>LotFrontage</th>\n      <th>LotArea</th>\n      <th>Street</th>\n      <th>Alley</th>\n      <th>LotShape</th>\n      <th>LandContour</th>\n      <th>Utilities</th>\n      <th>LotConfig</th>\n      <th>...</th>\n      <th>PoolArea</th>\n      <th>PoolQC</th>\n      <th>Fence</th>\n      <th>MiscFeature</th>\n      <th>MiscVal</th>\n      <th>MoSold</th>\n      <th>YrSold</th>\n      <th>SaleType</th>\n      <th>SaleCondition</th>\n      <th>SalePrice</th>\n    </tr>\n    <tr>\n      <th>Id</th>\n      <th></th>\n      <th></th>\n      <th></th>\n      <th></th>\n      <th></th>\n      <th></th>\n      <th></th>\n      <th></th>\n      <th></th>\n      <th></th>\n      <th></th>\n      <th></th>\n      <th></th>\n      <th></th>\n      <th></th>\n      <th></th>\n      <th></th>\n      <th></th>\n      <th></th>\n      <th></th>\n      <th></th>\n    </tr>\n  </thead>\n  <tbody>\n    <tr>\n      <th>1</th>\n      <td>60</td>\n      <td>RL</td>\n      <td>65.0</td>\n      <td>8450</td>\n      <td>Pave</td>\n      <td>NA</td>\n      <td>Reg</td>\n      <td>Lvl</td>\n      <td>AllPub</td>\n      <td>Inside</td>\n      <td>...</td>\n      <td>0</td>\n      <td>NA</td>\n      <td>NA</td>\n      <td>NA</td>\n      <td>0</td>\n      <td>2</td>\n      <td>2008</td>\n      <td>WD</td>\n      <td>Normal</td>\n      <td>208500</td>\n    </tr>\n    <tr>\n      <th>2</th>\n      <td>20</td>\n      <td>RL</td>\n      <td>80.0</td>\n      <td>9600</td>\n      <td>Pave</td>\n      <td>NA</td>\n      <td>Reg</td>\n      <td>Lvl</td>\n      <td>AllPub</td>\n      <td>FR2</td>\n      <td>...</td>\n      <td>0</td>\n      <td>NA</td>\n      <td>NA</td>\n      <td>NA</td>\n      <td>0</td>\n      <td>5</td>\n      <td>2007</td>\n      <td>WD</td>\n      <td>Normal</td>\n      <td>181500</td>\n    </tr>\n    <tr>\n      <th>3</th>\n      <td>60</td>\n      <td>RL</td>\n      <td>68.0</td>\n      <td>11250</td>\n      <td>Pave</td>\n      <td>NA</td>\n      <td>IR1</td>\n      <td>Lvl</td>\n      <td>AllPub</td>\n      <td>Inside</td>\n      <td>...</td>\n      <td>0</td>\n      <td>NA</td>\n      <td>NA</td>\n      <td>NA</td>\n      <td>0</td>\n      <td>9</td>\n      <td>2008</td>\n      <td>WD</td>\n      <td>Normal</td>\n      <td>223500</td>\n    </tr>\n    <tr>\n      <th>4</th>\n      <td>70</td>\n      <td>RL</td>\n      <td>60.0</td>\n      <td>9550</td>\n      <td>Pave</td>\n      <td>NA</td>\n      <td>IR1</td>\n      <td>Lvl</td>\n      <td>AllPub</td>\n      <td>Corner</td>\n      <td>...</td>\n      <td>0</td>\n      <td>NA</td>\n      <td>NA</td>\n      <td>NA</td>\n      <td>0</td>\n      <td>2</td>\n      <td>2006</td>\n      <td>WD</td>\n      <td>Abnorml</td>\n      <td>140000</td>\n    </tr>\n    <tr>\n      <th>5</th>\n      <td>60</td>\n      <td>RL</td>\n      <td>84.0</td>\n      <td>14260</td>\n      <td>Pave</td>\n      <td>NA</td>\n      <td>IR1</td>\n      <td>Lvl</td>\n      <td>AllPub</td>\n      <td>FR2</td>\n      <td>...</td>\n      <td>0</td>\n      <td>NA</td>\n      <td>NA</td>\n      <td>NA</td>\n      <td>0</td>\n      <td>12</td>\n      <td>2008</td>\n      <td>WD</td>\n      <td>Normal</td>\n      <td>250000</td>\n    </tr>\n  </tbody>\n</table>\n<p>5 rows × 80 columns</p>\n</div>"
     },
     "execution_count": 88,
     "metadata": {},
     "output_type": "execute_result"
    }
   ],
   "source": [
    "data=pd.concat([train_x,test_x],keys=[\"train\",\"test\"])\n",
    "#data[['MSSubClass','MoSold','OverallCond','OverallQual']]=data[['MSSubClass','MoSold','OverallCond','OverallQual']].astype('object')\n",
    "data=data.fillna({'Alley': 'NA', 'FireplaceQu': 'NA', 'PoolQC': 'NA', 'Fence': 'NA', 'MiscFeature': 'NA',\n",
    "                                         'BsmtQual': 'NA', 'BsmtCond': 'NA', 'BsmtExposure': 'NA', 'BsmtFinType1': 'NA', 'BsmtFinType2': 'NA',\n",
    "                                         'GarageType': 'NA', 'GarageFinish': 'NA', 'GarageQual': 'NA', 'GarageCond': 'NA'})\n",
    "na_l=data.columns[data.isna().any()].tolist()\n",
    "me=training[na_l].select_dtypes(\"float64\").median()\n",
    "for item in training[na_l].select_dtypes(\"object\"):\n",
    "    tem=data[item].value_counts()\n",
    "    tem1=tem.idxmax()\n",
    "    data[item]=tem1\n",
    "for item in me.index:\n",
    "    data[item]=data[item].replace(np.nan,me[item])\n",
    "train_x=data.loc[\"train\"]\n",
    "test_x=data.loc[\"test\"]\n",
    "training=train_x.join(train_y)\n",
    "testing=test_x.join(test_y)\n",
    "training.head()"
   ]
  },
  {
   "cell_type": "code",
   "execution_count": 89,
   "metadata": {
    "pycharm": {
     "name": "#%%\n"
    }
   },
   "outputs": [
    {
     "name": "stderr",
     "output_type": "stream",
     "text": [
      "C:\\Users\\SAJIN~1.LAP\\AppData\\Local\\Temp/ipykernel_11584/1165996475.py:5: SettingWithCopyWarning: \n",
      "A value is trying to be set on a copy of a slice from a DataFrame.\n",
      "Try using .loc[row_indexer,col_indexer] = value instead\n",
      "\n",
      "See the caveats in the documentation: https://pandas.pydata.org/pandas-docs/stable/user_guide/indexing.html#returning-a-view-versus-a-copy\n",
      "  train_x['GrLivArea']=np.log(train_x['GrLivArea'])\n",
      "C:\\Users\\SAJIN~1.LAP\\AppData\\Local\\Temp/ipykernel_11584/1165996475.py:6: SettingWithCopyWarning: \n",
      "A value is trying to be set on a copy of a slice from a DataFrame.\n",
      "Try using .loc[row_indexer,col_indexer] = value instead\n",
      "\n",
      "See the caveats in the documentation: https://pandas.pydata.org/pandas-docs/stable/user_guide/indexing.html#returning-a-view-versus-a-copy\n",
      "  test_x['GrLivArea']=np.log(test_x['GrLivArea'])\n",
      "C:\\Users\\Sajin.LAPTOP-RE0DL8PH\\anaconda3\\envs\\CS675\\lib\\site-packages\\seaborn\\distributions.py:2619: FutureWarning: `distplot` is a deprecated function and will be removed in a future version. Please adapt your code to use either `displot` (a figure-level function with similar flexibility) or `histplot` (an axes-level function for histograms).\n",
      "  warnings.warn(msg, FutureWarning)\n"
     ]
    },
    {
     "data": {
      "text/plain": "KitchenAbvGr    -0.135907\nEnclosedPorch   -0.128578\nMSSubClass      -0.084284\nOverallCond     -0.077856\nYrSold          -0.028923\nLowQualFinSF    -0.025606\nMiscVal         -0.021190\nBsmtHalfBath    -0.016844\nBsmtFinSF2      -0.011378\n3SsnPorch        0.044584\nMoSold           0.046432\nPoolArea         0.092404\nScreenPorch      0.111447\nBedroomAbvGr     0.168213\nBsmtUnfSF        0.214479\nBsmtFullBath     0.227122\nLotArea          0.263843\nHalfBath         0.284108\nOpenPorchSF      0.315856\n2ndFlrSF         0.319334\nWoodDeckSF       0.324413\nLotFrontage      0.334771\nBsmtFinSF1       0.386420\nGarageYrBlt      0.466754\nFireplaces       0.466929\nMasVnrArea       0.472614\nYearRemodAdd     0.507101\nYearBuilt        0.522897\nTotRmsAbvGrd     0.533723\nFullBath         0.560664\n1stFlrSF         0.605852\nTotalBsmtSF      0.613581\nGarageArea       0.623431\nGarageCars       0.640409\nGrLivArea        0.708624\nOverallQual      0.790982\nSalePrice        1.000000\nName: SalePrice, dtype: float64"
     },
     "execution_count": 89,
     "metadata": {},
     "output_type": "execute_result"
    },
    {
     "data": {
      "text/plain": "<Figure size 432x288 with 1 Axes>",
      "image/png": "[encoded data removed]"
     },
     "metadata": {
      "needs_background": "light"
     },
     "output_type": "display_data"
    }
   ],
   "source": [
    "import seaborn as sns\n",
    "from scipy.stats import skew\n",
    "train_y=np.log(train_y)\n",
    "test_y=np.log(test_y)\n",
    "train_x['GrLivArea']=np.log(train_x['GrLivArea'])\n",
    "test_x['GrLivArea']=np.log(test_x['GrLivArea'])\n",
    "#sns.distplot(training['SalePrice'])\n",
    "sns.distplot(np.log(testing['SalePrice']))\n",
    "c=training.corr()\n",
    "c['SalePrice'].sort_values()"
   ]
  },
  {
   "cell_type": "code",
   "execution_count": 90,
   "metadata": {},
   "outputs": [
    {
     "name": "stdout",
     "output_type": "stream",
     "text": [
      "Mean Absolute Error: 0.1993395539715537\n",
      "Mean Squared Error: 0.06331790435353175\n",
      "Root Mean Squared Error: 0.25163049170069146\n",
      "R-squared Error: -6.813203944980623\n"
     ]
    }
   ],
   "source": [
    "from sklearn.linear_model import LinearRegression\n",
    "from sklearn import metrics\n",
    "%matplotlib inline\n",
    "regressor = LinearRegression()\n",
    "regressor.fit(train_x['GrLivArea'].values.reshape(-1,1), train_y)\n",
    "y_pred = regressor.predict(test_x['GrLivArea'].values.reshape(-1,1))\n",
    "print('Mean Absolute Error:', metrics.mean_absolute_error(test_y, y_pred))\n",
    "print('Mean Squared Error:', metrics.mean_squared_error(test_y, y_pred))\n",
    "print('Root Mean Squared Error:', np.sqrt(metrics.mean_squared_error(test_y, y_pred)))\n",
    "print('R-squared Error:', metrics.r2_score(test_y.values.reshape(-1,1), y_pred))\n"
   ]
  }
 ],
 "metadata": {
  "kernelspec": {
   "display_name": "PyCharm (CS675)",
   "language": "python",
   "name": "pycharm-3f539605"
  },
  "language_info": {
   "codemirror_mode": {
    "name": "ipython",
    "version": 3
   },
   "file_extension": ".py",
   "mimetype": "text/x-python",
   "name": "python",
   "nbconvert_exporter": "python",
   "pygments_lexer": "ipython3",
   "version": "3.9.6"
  }
 },
 "nbformat": 4,
 "nbformat_minor": 1
}