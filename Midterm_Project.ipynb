#%%
import pandas as pd
import numpy as np
#%%
training=pd.read_csv('house-prices-advanced-regression-techniques/train.csv')
training=training.replace('NA ',np.nan)
training
train_x=training.iloc[:,:-1]
train_y=training.iloc[:,-1]
