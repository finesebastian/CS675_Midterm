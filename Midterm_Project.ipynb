{
 "cells": [
  {
   "cell_type": "code",
   "execution_count": 22,
   "metadata": {
    "pycharm": {
     "name": "#%%\n"
    }
   },
   "outputs": [],
   "source": [
    "import matplotlib.pyplot as plt\n",
    "import pandas as pd\n",
    "import numpy as np\n",
    "from scipy.stats import iqr"
   ]
  },
  {
   "cell_type": "code",
   "execution_count": 23,
   "outputs": [],
   "source": [
    "def get_cat_num_features(df):\n",
    "    num_features = []\n",
    "    cat_features = []\n",
    "    for col in df.columns:\n",
    "        if df[col].dtype==\"float64\" or df[col].dtype==\"int64\":\n",
    "            num_features.append(col)\n",
    "        else:\n",
    "            cat_features.append(col)\n",
    "    return num_features, cat_features\n",
    "def get_outliers(df, num_feat):\n",
    "    outlier_df = pd.DataFrame(columns=['Feature', 'Total Outliers','Upper limit', 'Lower limit'])\n",
    "    for col in num_feat:\n",
    "        lower=np.percentile(df[col],25)-(1.5*iqr(df[col]))\n",
    "        upper=np.percentile(df[col],75)+(1.5*iqr(df[col]))\n",
    "        upper_outliers = df[df[col] > upper]\n",
    "        lower_outliers = df[df[col] < lower]\n",
    "        total=lower_outliers.shape[0]+upper_outliers.shape[0]\n",
    "        if (total!=0) and (upper!=0 and lower!=0):\n",
    "            outlier_df = outlier_df.append({'Feature':col, 'Total Outliers': total,'Upper limit': upper, 'Lower limit':lower}, ignore_index=True)\n",
    "    return outlier_df\n",
    "def remove_outliers(df, outlier_df, num_feat):\n",
    "    for col in outlier_df['Feature'].to_list():\n",
    "        upper = outlier_df[outlier_df['Feature']== col ]['Upper limit'].values[0]\n",
    "        lower = outlier_df[outlier_df['Feature']== col ]['Lower limit'].values[0]\n",
    "        df[col] = np.where(df[col]>upper, upper, df[col])\n",
    "        df[col] = np.where(df[col]<lower, lower, df[col])\n",
    "    return df"
   ],
   "metadata": {
    "collapsed": false,
    "pycharm": {
     "name": "#%%\n"
    }
   }
  },
  {
   "cell_type": "code",
   "execution_count": 24,
   "outputs": [],
   "source": [
    "data=pd.read_csv('house-prices-advanced-regression-techniques/train.csv',index_col='Id')\n",
    "temp=data['SalePrice']\n",
    "data=data.drop(['SalePrice'],axis=1)\n",
    "data=data.fillna({'Alley':'NA','BsmtQual':'NA','BsmtCond':'NA','BsmtExposure':'NA','BsmtFinType1':'NA','BsmtFinType2':'NA','FireplaceQu':'NA','GarageType':'NA','GarageFinish':'NA','GarageQual':'NA','GarageCond':'NA','PoolQC':'NA','Fence':'NA','MiscFeature':'NA','Exterior2nd':'NA','Functional':'Typ'})\n",
    "cate=['MSZoning','Exterior1st','MasVnrType','Electrical','KitchenQual','Functional','GarageYrBlt','SaleType']\n",
    "for item in cate:\n",
    "    data[item]=data[item].fillna(data[item].value_counts().index[0])\n",
    "data=data.drop(['Utilities'],axis=1)\n",
    "tem=np.where(data['MasVnrType']=='None',0,data['MasVnrArea'])\n",
    "data['MasVnrArea']=data['MasVnrArea'].fillna(pd.Series(tem))\n",
    "tem=np.where(data['BsmtFinType1']=='NA',0,data['BsmtFinSF1'])\n",
    "data['BsmtFinSF1']=data['BsmtFinSF1'].fillna(pd.Series(tem))\n",
    "tem=np.where(data['BsmtFinType2']=='NA',0,data['BsmtFinSF2'])\n",
    "data['BsmtFinSF2']=data['BsmtFinSF2'].fillna(pd.Series(tem))\n",
    "tem=np.where(data['BsmtQual']=='NA',0,data['BsmtUnfSF'])\n",
    "data['BsmtUnfSF']=data['BsmtUnfSF'].fillna(pd.Series(tem))\n",
    "tem=np.where(data['BsmtQual']=='NA',0,data['BsmtHalfBath'])\n",
    "data['BsmtHalfBath']=data['BsmtHalfBath'].fillna(pd.Series(tem))\n",
    "tem=np.where(data['BsmtQual']=='NA',0,data['BsmtFullBath'])\n",
    "data['BsmtFullBath']=data['BsmtFullBath'].fillna(pd.Series(tem))\n",
    "tem=np.where(data['GarageType']=='NA',0,data['GarageCars'])\n",
    "data['GarageCars']=data['GarageCars'].fillna(pd.Series(tem))\n",
    "tem=np.where(data['GarageType']=='NA',0,data['GarageArea'])\n",
    "data['GarageArea']=data['GarageArea'].fillna(pd.Series(tem))\n",
    "data['LotFrontage']=data.groupby('Neighborhood')[\"LotFrontage\"].transform(lambda x: x.fillna(x.median()))\n",
    "data['TotalBsmtSF']=(data['BsmtFinSF1']+data['BsmtFinSF2']+data['BsmtUnfSF'])\n",
    "data['TotalSF']=data['TotalBsmtSF']+data['1stFlrSF']+data['2ndFlrSF']\n",
    "data['Total_sqr_footage'] = (data['BsmtFinSF1']+data['BsmtFinSF2']+data['1stFlrSF']+data['2ndFlrSF'])\n",
    "data['Total_Bathrooms'] = (data['FullBath'] + (0.5*data['HalfBath'])+data['BsmtFullBath']+(0.5*data['BsmtHalfBath']))\n",
    "data['Total_porch_sf'] = (data['OpenPorchSF']+data['3SsnPorch']+data['EnclosedPorch'] + data['ScreenPorch']+data['WoodDeckSF'])\n",
    "data['MSSubClass'] = data['MSSubClass'].apply(str)\n",
    "data['OverallCond'] = data['OverallCond'].astype(str)\n",
    "data['YrSold'] = data['YrSold'].astype(str)\n",
    "data['MoSold'] = data['MoSold'].astype(str)\n",
    "data=data.join(temp)\n",
    "num_feat,cat_feat=get_cat_num_features(data)\n",
    "outlier_df = get_outliers(data, num_feat)\n"
   ],
   "metadata": {
    "collapsed": false,
    "pycharm": {
     "name": "#%%\n"
    }
   }
  }
 ],
 "metadata": {
  "kernelspec": {
   "display_name": "PyCharm (CS675)",
   "language": "python",
   "name": "pycharm-3f539605"
  },
  "language_info": {
   "codemirror_mode": {
    "name": "ipython",
    "version": 3
   },
   "file_extension": ".py",
   "mimetype": "text/x-python",
   "name": "python",
   "nbconvert_exporter": "python",
   "pygments_lexer": "ipython3",
   "version": "3.9.6"
  }
 },
 "nbformat": 4,
 "nbformat_minor": 1
}