{
 "cells": [
  {
   "cell_type": "code",
   "execution_count": 37,
   "metadata": {},
   "outputs": [],
   "source": [
    "import pandas as pd\n",
    "import numpy as np"
   ]
  },
  {
   "cell_type": "code",
   "execution_count": 38,
   "metadata": {
    "pycharm": {
     "name": "#%%\n"
    }
   },
   "outputs": [
    {
     "name": "stdout",
     "output_type": "stream",
     "text": [
      "Index(['Alley', 'PoolQC', 'Fence', 'MiscFeature'], dtype='object')\n",
      "Index(['Alley', 'PoolQC', 'Fence', 'MiscFeature'], dtype='object')\n"
     ]
    },
    {
     "data": {
      "text/plain": "    MSSubClass MSZoning  LotFrontage  LotArea Street LotShape LandContour  \\\nId                                                                          \n1           60       RL         65.0     8450   Pave      Reg         Lvl   \n2           20       RL         80.0     9600   Pave      Reg         Lvl   \n3           60       RL         68.0    11250   Pave      IR1         Lvl   \n4           70       RL         60.0     9550   Pave      IR1         Lvl   \n5           60       RL         84.0    14260   Pave      IR1         Lvl   \n\n   Utilities LotConfig LandSlope  ... MiscVal MoSold YrSold SaleType  \\\nId                                ...                                  \n1     AllPub    Inside       Gtl  ...       0      2   2008       WD   \n2     AllPub       FR2       Gtl  ...       0      5   2007       WD   \n3     AllPub    Inside       Gtl  ...       0      9   2008       WD   \n4     AllPub    Corner       Gtl  ...       0      2   2006       WD   \n5     AllPub       FR2       Gtl  ...       0     12   2008       WD   \n\n   SaleCondition  Is there a MiscFeature ?  Is there a Fence ?  \\\nId                                                               \n1         Normal                         0                   0   \n2         Normal                         0                   0   \n3         Normal                         0                   0   \n4        Abnorml                         0                   0   \n5         Normal                         0                   0   \n\n    Is there a PoolQC ?  Is there a Alley ? SalePrice  \nId                                                     \n1                     0                   0    208500  \n2                     0                   0    181500  \n3                     0                   0    223500  \n4                     0                   0    140000  \n5                     0                   0    250000  \n\n[5 rows x 80 columns]",
      "text/html": "<div>\n<style scoped>\n    .dataframe tbody tr th:only-of-type {\n        vertical-align: middle;\n    }\n\n    .dataframe tbody tr th {\n        vertical-align: top;\n    }\n\n    .dataframe thead th {\n        text-align: right;\n    }\n</style>\n<table border=\"1\" class=\"dataframe\">\n  <thead>\n    <tr style=\"text-align: right;\">\n      <th></th>\n      <th>MSSubClass</th>\n      <th>MSZoning</th>\n      <th>LotFrontage</th>\n      <th>LotArea</th>\n      <th>Street</th>\n      <th>LotShape</th>\n      <th>LandContour</th>\n      <th>Utilities</th>\n      <th>LotConfig</th>\n      <th>LandSlope</th>\n      <th>...</th>\n      <th>MiscVal</th>\n      <th>MoSold</th>\n      <th>YrSold</th>\n      <th>SaleType</th>\n      <th>SaleCondition</th>\n      <th>Is there a MiscFeature ?</th>\n      <th>Is there a Fence ?</th>\n      <th>Is there a PoolQC ?</th>\n      <th>Is there a Alley ?</th>\n      <th>SalePrice</th>\n    </tr>\n    <tr>\n      <th>Id</th>\n      <th></th>\n      <th></th>\n      <th></th>\n      <th></th>\n      <th></th>\n      <th></th>\n      <th></th>\n      <th></th>\n      <th></th>\n      <th></th>\n      <th></th>\n      <th></th>\n      <th></th>\n      <th></th>\n      <th></th>\n      <th></th>\n      <th></th>\n      <th></th>\n      <th></th>\n      <th></th>\n      <th></th>\n    </tr>\n  </thead>\n  <tbody>\n    <tr>\n      <th>1</th>\n      <td>60</td>\n      <td>RL</td>\n      <td>65.0</td>\n      <td>8450</td>\n      <td>Pave</td>\n      <td>Reg</td>\n      <td>Lvl</td>\n      <td>AllPub</td>\n      <td>Inside</td>\n      <td>Gtl</td>\n      <td>...</td>\n      <td>0</td>\n      <td>2</td>\n      <td>2008</td>\n      <td>WD</td>\n      <td>Normal</td>\n      <td>0</td>\n      <td>0</td>\n      <td>0</td>\n      <td>0</td>\n      <td>208500</td>\n    </tr>\n    <tr>\n      <th>2</th>\n      <td>20</td>\n      <td>RL</td>\n      <td>80.0</td>\n      <td>9600</td>\n      <td>Pave</td>\n      <td>Reg</td>\n      <td>Lvl</td>\n      <td>AllPub</td>\n      <td>FR2</td>\n      <td>Gtl</td>\n      <td>...</td>\n      <td>0</td>\n      <td>5</td>\n      <td>2007</td>\n      <td>WD</td>\n      <td>Normal</td>\n      <td>0</td>\n      <td>0</td>\n      <td>0</td>\n      <td>0</td>\n      <td>181500</td>\n    </tr>\n    <tr>\n      <th>3</th>\n      <td>60</td>\n      <td>RL</td>\n      <td>68.0</td>\n      <td>11250</td>\n      <td>Pave</td>\n      <td>IR1</td>\n      <td>Lvl</td>\n      <td>AllPub</td>\n      <td>Inside</td>\n      <td>Gtl</td>\n      <td>...</td>\n      <td>0</td>\n      <td>9</td>\n      <td>2008</td>\n      <td>WD</td>\n      <td>Normal</td>\n      <td>0</td>\n      <td>0</td>\n      <td>0</td>\n      <td>0</td>\n      <td>223500</td>\n    </tr>\n    <tr>\n      <th>4</th>\n      <td>70</td>\n      <td>RL</td>\n      <td>60.0</td>\n      <td>9550</td>\n      <td>Pave</td>\n      <td>IR1</td>\n      <td>Lvl</td>\n      <td>AllPub</td>\n      <td>Corner</td>\n      <td>Gtl</td>\n      <td>...</td>\n      <td>0</td>\n      <td>2</td>\n      <td>2006</td>\n      <td>WD</td>\n      <td>Abnorml</td>\n      <td>0</td>\n      <td>0</td>\n      <td>0</td>\n      <td>0</td>\n      <td>140000</td>\n    </tr>\n    <tr>\n      <th>5</th>\n      <td>60</td>\n      <td>RL</td>\n      <td>84.0</td>\n      <td>14260</td>\n      <td>Pave</td>\n      <td>IR1</td>\n      <td>Lvl</td>\n      <td>AllPub</td>\n      <td>FR2</td>\n      <td>Gtl</td>\n      <td>...</td>\n      <td>0</td>\n      <td>12</td>\n      <td>2008</td>\n      <td>WD</td>\n      <td>Normal</td>\n      <td>0</td>\n      <td>0</td>\n      <td>0</td>\n      <td>0</td>\n      <td>250000</td>\n    </tr>\n  </tbody>\n</table>\n<p>5 rows × 80 columns</p>\n</div>"
     },
     "execution_count": 38,
     "metadata": {},
     "output_type": "execute_result"
    }
   ],
   "source": [
    "training=pd.read_csv('house-prices-advanced-regression-techniques/train.csv',index_col='Id')\n",
    "training=training.replace('NA ',np.nan)\n",
    "d=training.shape\n",
    "temp=training.isna().sum()[training.isna().sum()>=(d[0]*0.75)].index\n",
    "print(temp)\n",
    "na_l=training.columns[training.isna().any()].tolist() # columns with nan in them\n",
    "me=training[na_l].select_dtypes(\"float64\").median()\n",
    "for item in temp:\n",
    "    m=training[item].isnull().values\n",
    "    training.insert((d[1]-1),(\"Is there a \"+item+\" ?\"),~m)\n",
    "    training[(\"Is there a \"+item+\" ?\")]=training[(\"Is there a \"+item+\" ?\")].astype('int64')\n",
    "for item in training[na_l].select_dtypes(\"object\"):\n",
    "    if item not in temp:\n",
    "        tem=training[item].value_counts()\n",
    "        tem1=tem.idxmax()\n",
    "        training[item]=tem1\n",
    "for item in me.index:\n",
    "    training[item]=training[item].replace(np.nan,me[item])\n",
    "training=training.drop(columns=temp)\n",
    "col=training.pop('SalePrice')\n",
    "d=training.shape\n",
    "training.insert(d[1],'SalePrice',col)\n",
    "print(temp)\n",
    "training.head()"
   ]
  },
  {
   "cell_type": "code",
   "execution_count": 39,
   "metadata": {
    "pycharm": {
     "name": "#%%\n"
    }
   },
   "outputs": [
    {
     "name": "stdout",
     "output_type": "stream",
     "text": [
      "Index(['Alley', 'PoolQC', 'Fence', 'MiscFeature'], dtype='object')\n",
      "Index(['Alley', 'PoolQC', 'Fence', 'MiscFeature'], dtype='object')\n"
     ]
    },
    {
     "data": {
      "text/plain": "      MSSubClass MSZoning  LotFrontage  LotArea Street LotShape LandContour  \\\nId                                                                            \n1461          20       RL         80.0    11622   Pave      Reg         Lvl   \n1462          20       RL         81.0    14267   Pave      IR1         Lvl   \n1463          60       RL         74.0    13830   Pave      IR1         Lvl   \n1464          60       RL         78.0     9978   Pave      IR1         Lvl   \n1465         120       RL         43.0     5005   Pave      IR1         HLS   \n\n     Utilities LotConfig LandSlope  ... PoolArea MiscVal MoSold YrSold  \\\nId                                  ...                                  \n1461    AllPub    Inside       Gtl  ...        0       0      6   2010   \n1462    AllPub    Corner       Gtl  ...        0   12500      6   2010   \n1463    AllPub    Inside       Gtl  ...        0       0      3   2010   \n1464    AllPub    Inside       Gtl  ...        0       0      6   2010   \n1465    AllPub    Inside       Gtl  ...        0       0      1   2010   \n\n     SaleType  Is there a MiscFeature ?  Is there a Fence ?  \\\nId                                                            \n1461       WD                         0                   1   \n1462       WD                         1                   0   \n1463       WD                         0                   1   \n1464       WD                         0                   0   \n1465       WD                         0                   0   \n\n      Is there a PoolQC ?  Is there a Alley ? SaleCondition  \nId                                                           \n1461                    0                   0        Normal  \n1462                    0                   0        Normal  \n1463                    0                   0        Normal  \n1464                    0                   0        Normal  \n1465                    0                   0        Normal  \n\n[5 rows x 79 columns]",
      "text/html": "<div>\n<style scoped>\n    .dataframe tbody tr th:only-of-type {\n        vertical-align: middle;\n    }\n\n    .dataframe tbody tr th {\n        vertical-align: top;\n    }\n\n    .dataframe thead th {\n        text-align: right;\n    }\n</style>\n<table border=\"1\" class=\"dataframe\">\n  <thead>\n    <tr style=\"text-align: right;\">\n      <th></th>\n      <th>MSSubClass</th>\n      <th>MSZoning</th>\n      <th>LotFrontage</th>\n      <th>LotArea</th>\n      <th>Street</th>\n      <th>LotShape</th>\n      <th>LandContour</th>\n      <th>Utilities</th>\n      <th>LotConfig</th>\n      <th>LandSlope</th>\n      <th>...</th>\n      <th>PoolArea</th>\n      <th>MiscVal</th>\n      <th>MoSold</th>\n      <th>YrSold</th>\n      <th>SaleType</th>\n      <th>Is there a MiscFeature ?</th>\n      <th>Is there a Fence ?</th>\n      <th>Is there a PoolQC ?</th>\n      <th>Is there a Alley ?</th>\n      <th>SaleCondition</th>\n    </tr>\n    <tr>\n      <th>Id</th>\n      <th></th>\n      <th></th>\n      <th></th>\n      <th></th>\n      <th></th>\n      <th></th>\n      <th></th>\n      <th></th>\n      <th></th>\n      <th></th>\n      <th></th>\n      <th></th>\n      <th></th>\n      <th></th>\n      <th></th>\n      <th></th>\n      <th></th>\n      <th></th>\n      <th></th>\n      <th></th>\n      <th></th>\n    </tr>\n  </thead>\n  <tbody>\n    <tr>\n      <th>1461</th>\n      <td>20</td>\n      <td>RL</td>\n      <td>80.0</td>\n      <td>11622</td>\n      <td>Pave</td>\n      <td>Reg</td>\n      <td>Lvl</td>\n      <td>AllPub</td>\n      <td>Inside</td>\n      <td>Gtl</td>\n      <td>...</td>\n      <td>0</td>\n      <td>0</td>\n      <td>6</td>\n      <td>2010</td>\n      <td>WD</td>\n      <td>0</td>\n      <td>1</td>\n      <td>0</td>\n      <td>0</td>\n      <td>Normal</td>\n    </tr>\n    <tr>\n      <th>1462</th>\n      <td>20</td>\n      <td>RL</td>\n      <td>81.0</td>\n      <td>14267</td>\n      <td>Pave</td>\n      <td>IR1</td>\n      <td>Lvl</td>\n      <td>AllPub</td>\n      <td>Corner</td>\n      <td>Gtl</td>\n      <td>...</td>\n      <td>0</td>\n      <td>12500</td>\n      <td>6</td>\n      <td>2010</td>\n      <td>WD</td>\n      <td>1</td>\n      <td>0</td>\n      <td>0</td>\n      <td>0</td>\n      <td>Normal</td>\n    </tr>\n    <tr>\n      <th>1463</th>\n      <td>60</td>\n      <td>RL</td>\n      <td>74.0</td>\n      <td>13830</td>\n      <td>Pave</td>\n      <td>IR1</td>\n      <td>Lvl</td>\n      <td>AllPub</td>\n      <td>Inside</td>\n      <td>Gtl</td>\n      <td>...</td>\n      <td>0</td>\n      <td>0</td>\n      <td>3</td>\n      <td>2010</td>\n      <td>WD</td>\n      <td>0</td>\n      <td>1</td>\n      <td>0</td>\n      <td>0</td>\n      <td>Normal</td>\n    </tr>\n    <tr>\n      <th>1464</th>\n      <td>60</td>\n      <td>RL</td>\n      <td>78.0</td>\n      <td>9978</td>\n      <td>Pave</td>\n      <td>IR1</td>\n      <td>Lvl</td>\n      <td>AllPub</td>\n      <td>Inside</td>\n      <td>Gtl</td>\n      <td>...</td>\n      <td>0</td>\n      <td>0</td>\n      <td>6</td>\n      <td>2010</td>\n      <td>WD</td>\n      <td>0</td>\n      <td>0</td>\n      <td>0</td>\n      <td>0</td>\n      <td>Normal</td>\n    </tr>\n    <tr>\n      <th>1465</th>\n      <td>120</td>\n      <td>RL</td>\n      <td>43.0</td>\n      <td>5005</td>\n      <td>Pave</td>\n      <td>IR1</td>\n      <td>HLS</td>\n      <td>AllPub</td>\n      <td>Inside</td>\n      <td>Gtl</td>\n      <td>...</td>\n      <td>0</td>\n      <td>0</td>\n      <td>1</td>\n      <td>2010</td>\n      <td>WD</td>\n      <td>0</td>\n      <td>0</td>\n      <td>0</td>\n      <td>0</td>\n      <td>Normal</td>\n    </tr>\n  </tbody>\n</table>\n<p>5 rows × 79 columns</p>\n</div>"
     },
     "execution_count": 39,
     "metadata": {},
     "output_type": "execute_result"
    }
   ],
   "source": [
    "test_x=pd.read_csv('house-prices-advanced-regression-techniques/test.csv',index_col='Id')\n",
    "test_y=pd.read_csv('house-prices-advanced-regression-techniques/sample_submission.csv',index_col='Id')\n",
    "test_x=test_x.replace('NA ',np.nan)\n",
    "d=test_x.shape\n",
    "temp=test_x.isna().sum()[test_x.isna().sum()>=(d[0]*0.75)].index\n",
    "print(temp)\n",
    "na_l=test_x.columns[test_x.isna().any()].tolist() # columns with nan in them\n",
    "me=test_x[na_l].select_dtypes(\"float64\").median()\n",
    "for item in temp:\n",
    "    m=test_x[item].isnull().values\n",
    "    test_x.insert((d[1]-1),(\"Is there a \"+item+\" ?\"),~m)\n",
    "    test_x[(\"Is there a \"+item+\" ?\")]=test_x[(\"Is there a \"+item+\" ?\")].astype('int64')\n",
    "for item in test_x[na_l].select_dtypes(\"object\"):\n",
    "    if item not in temp:\n",
    "        tem=test_x[item].value_counts()\n",
    "        tem1=tem.idxmax()\n",
    "        test_x[item]=tem1\n",
    "for item in me.index:\n",
    "    test_x[item]=test_x[item].replace(np.nan,me[item])\n",
    "test_x=test_x.drop(columns=temp)\n",
    "print(temp)\n",
    "test_x.head()"
   ]
  },
  {
   "cell_type": "code",
   "execution_count": 40,
   "metadata": {
    "pycharm": {
     "name": "#%%\n"
    }
   },
   "outputs": [],
   "source": [
    "train_x=training.iloc[:,:-1]\n",
    "train_y=training.iloc[:,-1]"
   ]
  },
  {
   "cell_type": "code",
   "execution_count": 40,
   "metadata": {},
   "outputs": [],
   "source": []
  }
 ],
 "metadata": {
  "kernelspec": {
   "display_name": "PyCharm (CS675)",
   "language": "python",
   "name": "pycharm-3f539605"
  },
  "language_info": {
   "codemirror_mode": {
    "name": "ipython",
    "version": 3
   },
   "file_extension": ".py",
   "mimetype": "text/x-python",
   "name": "python",
   "nbconvert_exporter": "python",
   "pygments_lexer": "ipython3",
   "version": "3.9.6"
  }
 },
 "nbformat": 4,
 "nbformat_minor": 1
}