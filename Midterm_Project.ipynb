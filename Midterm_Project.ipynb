{
 "cells": [
  {
   "cell_type": "code",
   "execution_count": 6,
   "metadata": {},
   "outputs": [],
   "source": [
    "import pandas as pd\n",
    "import numpy as np"
   ]
  },
  {
   "cell_type": "code",
   "execution_count": 7,
   "metadata": {
    "pycharm": {
     "name": "#%%\n"
    }
   },
   "outputs": [
    {
     "data": {
      "text/plain": "   MSSubClass MSZoning  LotFrontage  LotArea Street Alley LotShape  \\\nId                                                                   \n1          60       RL         65.0     8450   Pave    NA      Reg   \n2          20       RL         80.0     9600   Pave    NA      Reg   \n3          60       RL         68.0    11250   Pave    NA      IR1   \n4          70       RL         60.0     9550   Pave    NA      IR1   \n5          60       RL         84.0    14260   Pave    NA      IR1   \n\n   LandContour Utilities LotConfig  ... PoolArea PoolQC Fence MiscFeature  \\\nId                                  ...                                     \n1          Lvl    AllPub    Inside  ...        0     NA    NA          NA   \n2          Lvl    AllPub       FR2  ...        0     NA    NA          NA   \n3          Lvl    AllPub    Inside  ...        0     NA    NA          NA   \n4          Lvl    AllPub    Corner  ...        0     NA    NA          NA   \n5          Lvl    AllPub       FR2  ...        0     NA    NA          NA   \n\n   MiscVal MoSold  YrSold SaleType  SaleCondition  SalePrice  \nId                                                            \n1        0      2    2008       WD         Normal     208500  \n2        0      5    2007       WD         Normal     181500  \n3        0      9    2008       WD         Normal     223500  \n4        0      2    2006       WD        Abnorml     140000  \n5        0     12    2008       WD         Normal     250000  \n\n[5 rows x 80 columns]",
      "text/html": "<div>\n<style scoped>\n    .dataframe tbody tr th:only-of-type {\n        vertical-align: middle;\n    }\n\n    .dataframe tbody tr th {\n        vertical-align: top;\n    }\n\n    .dataframe thead th {\n        text-align: right;\n    }\n</style>\n<table border=\"1\" class=\"dataframe\">\n  <thead>\n    <tr style=\"text-align: right;\">\n      <th></th>\n      <th>MSSubClass</th>\n      <th>MSZoning</th>\n      <th>LotFrontage</th>\n      <th>LotArea</th>\n      <th>Street</th>\n      <th>Alley</th>\n      <th>LotShape</th>\n      <th>LandContour</th>\n      <th>Utilities</th>\n      <th>LotConfig</th>\n      <th>...</th>\n      <th>PoolArea</th>\n      <th>PoolQC</th>\n      <th>Fence</th>\n      <th>MiscFeature</th>\n      <th>MiscVal</th>\n      <th>MoSold</th>\n      <th>YrSold</th>\n      <th>SaleType</th>\n      <th>SaleCondition</th>\n      <th>SalePrice</th>\n    </tr>\n    <tr>\n      <th>Id</th>\n      <th></th>\n      <th></th>\n      <th></th>\n      <th></th>\n      <th></th>\n      <th></th>\n      <th></th>\n      <th></th>\n      <th></th>\n      <th></th>\n      <th></th>\n      <th></th>\n      <th></th>\n      <th></th>\n      <th></th>\n      <th></th>\n      <th></th>\n      <th></th>\n      <th></th>\n      <th></th>\n      <th></th>\n    </tr>\n  </thead>\n  <tbody>\n    <tr>\n      <th>1</th>\n      <td>60</td>\n      <td>RL</td>\n      <td>65.0</td>\n      <td>8450</td>\n      <td>Pave</td>\n      <td>NA</td>\n      <td>Reg</td>\n      <td>Lvl</td>\n      <td>AllPub</td>\n      <td>Inside</td>\n      <td>...</td>\n      <td>0</td>\n      <td>NA</td>\n      <td>NA</td>\n      <td>NA</td>\n      <td>0</td>\n      <td>2</td>\n      <td>2008</td>\n      <td>WD</td>\n      <td>Normal</td>\n      <td>208500</td>\n    </tr>\n    <tr>\n      <th>2</th>\n      <td>20</td>\n      <td>RL</td>\n      <td>80.0</td>\n      <td>9600</td>\n      <td>Pave</td>\n      <td>NA</td>\n      <td>Reg</td>\n      <td>Lvl</td>\n      <td>AllPub</td>\n      <td>FR2</td>\n      <td>...</td>\n      <td>0</td>\n      <td>NA</td>\n      <td>NA</td>\n      <td>NA</td>\n      <td>0</td>\n      <td>5</td>\n      <td>2007</td>\n      <td>WD</td>\n      <td>Normal</td>\n      <td>181500</td>\n    </tr>\n    <tr>\n      <th>3</th>\n      <td>60</td>\n      <td>RL</td>\n      <td>68.0</td>\n      <td>11250</td>\n      <td>Pave</td>\n      <td>NA</td>\n      <td>IR1</td>\n      <td>Lvl</td>\n      <td>AllPub</td>\n      <td>Inside</td>\n      <td>...</td>\n      <td>0</td>\n      <td>NA</td>\n      <td>NA</td>\n      <td>NA</td>\n      <td>0</td>\n      <td>9</td>\n      <td>2008</td>\n      <td>WD</td>\n      <td>Normal</td>\n      <td>223500</td>\n    </tr>\n    <tr>\n      <th>4</th>\n      <td>70</td>\n      <td>RL</td>\n      <td>60.0</td>\n      <td>9550</td>\n      <td>Pave</td>\n      <td>NA</td>\n      <td>IR1</td>\n      <td>Lvl</td>\n      <td>AllPub</td>\n      <td>Corner</td>\n      <td>...</td>\n      <td>0</td>\n      <td>NA</td>\n      <td>NA</td>\n      <td>NA</td>\n      <td>0</td>\n      <td>2</td>\n      <td>2006</td>\n      <td>WD</td>\n      <td>Abnorml</td>\n      <td>140000</td>\n    </tr>\n    <tr>\n      <th>5</th>\n      <td>60</td>\n      <td>RL</td>\n      <td>84.0</td>\n      <td>14260</td>\n      <td>Pave</td>\n      <td>NA</td>\n      <td>IR1</td>\n      <td>Lvl</td>\n      <td>AllPub</td>\n      <td>FR2</td>\n      <td>...</td>\n      <td>0</td>\n      <td>NA</td>\n      <td>NA</td>\n      <td>NA</td>\n      <td>0</td>\n      <td>12</td>\n      <td>2008</td>\n      <td>WD</td>\n      <td>Normal</td>\n      <td>250000</td>\n    </tr>\n  </tbody>\n</table>\n<p>5 rows × 80 columns</p>\n</div>"
     },
     "execution_count": 7,
     "metadata": {},
     "output_type": "execute_result"
    }
   ],
   "source": [
    "training=pd.read_csv('house-prices-advanced-regression-techniques/train.csv',index_col='Id')\n",
    "training=training.replace('NA ',np.nan)\n",
    "d=training.shape\n",
    "training[['MSSubClass','MoSold','OverallCond']]=training[['MSSubClass','MoSold','OverallCond']].astype('object')\n",
    "training=training.fillna({'Alley': 'NA', 'FireplaceQu': 'NA', 'PoolQC': 'NA', 'Fence': 'NA', 'MiscFeature': 'NA',\n",
    "                                         'BsmtQual': 'NA', 'BsmtCond': 'NA', 'BsmtExposure': 'NA', 'BsmtFinType1': 'NA', 'BsmtFinType2': 'NA',\n",
    "                                         'GarageType': 'NA', 'GarageFinish': 'NA', 'GarageQual': 'NA', 'GarageCond': 'NA'})\n",
    "na_l=training.columns[training.isna().any()].tolist() # columns with nan in them\n",
    "me=training[na_l].select_dtypes(\"float64\").median()\n",
    "for item in training[na_l].select_dtypes(\"object\"):\n",
    "    tem=training[item].value_counts()\n",
    "    tem1=tem.idxmax()\n",
    "    training[item]=tem1\n",
    "for item in me.index:\n",
    "    training[item]=training[item].replace(np.nan,me[item])\n",
    "dem=training.dtypes\n",
    "training.head()"
   ]
  },
  {
   "cell_type": "code",
   "execution_count": 8,
   "metadata": {
    "pycharm": {
     "name": "#%%\n"
    }
   },
   "outputs": [
    {
     "data": {
      "text/plain": "     MSSubClass MSZoning  LotFrontage  LotArea Street Alley LotShape  \\\nId                                                                     \n1461         20       RL         80.0    11622   Pave    NA      Reg   \n1462         20       RL         81.0    14267   Pave    NA      IR1   \n1463         60       RL         74.0    13830   Pave    NA      IR1   \n1464         60       RL         78.0     9978   Pave    NA      IR1   \n1465        120       RL         43.0     5005   Pave    NA      IR1   \n\n     LandContour Utilities LotConfig  ... ScreenPorch PoolArea PoolQC  Fence  \\\nId                                    ...                                      \n1461         Lvl    AllPub    Inside  ...         120        0     NA  MnPrv   \n1462         Lvl    AllPub    Corner  ...           0        0     NA     NA   \n1463         Lvl    AllPub    Inside  ...           0        0     NA  MnPrv   \n1464         Lvl    AllPub    Inside  ...           0        0     NA     NA   \n1465         HLS    AllPub    Inside  ...         144        0     NA     NA   \n\n     MiscFeature MiscVal  MoSold YrSold  SaleType  SaleCondition  \nId                                                                \n1461          NA       0       6   2010        WD         Normal  \n1462        Gar2   12500       6   2010        WD         Normal  \n1463          NA       0       3   2010        WD         Normal  \n1464          NA       0       6   2010        WD         Normal  \n1465          NA       0       1   2010        WD         Normal  \n\n[5 rows x 79 columns]",
      "text/html": "<div>\n<style scoped>\n    .dataframe tbody tr th:only-of-type {\n        vertical-align: middle;\n    }\n\n    .dataframe tbody tr th {\n        vertical-align: top;\n    }\n\n    .dataframe thead th {\n        text-align: right;\n    }\n</style>\n<table border=\"1\" class=\"dataframe\">\n  <thead>\n    <tr style=\"text-align: right;\">\n      <th></th>\n      <th>MSSubClass</th>\n      <th>MSZoning</th>\n      <th>LotFrontage</th>\n      <th>LotArea</th>\n      <th>Street</th>\n      <th>Alley</th>\n      <th>LotShape</th>\n      <th>LandContour</th>\n      <th>Utilities</th>\n      <th>LotConfig</th>\n      <th>...</th>\n      <th>ScreenPorch</th>\n      <th>PoolArea</th>\n      <th>PoolQC</th>\n      <th>Fence</th>\n      <th>MiscFeature</th>\n      <th>MiscVal</th>\n      <th>MoSold</th>\n      <th>YrSold</th>\n      <th>SaleType</th>\n      <th>SaleCondition</th>\n    </tr>\n    <tr>\n      <th>Id</th>\n      <th></th>\n      <th></th>\n      <th></th>\n      <th></th>\n      <th></th>\n      <th></th>\n      <th></th>\n      <th></th>\n      <th></th>\n      <th></th>\n      <th></th>\n      <th></th>\n      <th></th>\n      <th></th>\n      <th></th>\n      <th></th>\n      <th></th>\n      <th></th>\n      <th></th>\n      <th></th>\n      <th></th>\n    </tr>\n  </thead>\n  <tbody>\n    <tr>\n      <th>1461</th>\n      <td>20</td>\n      <td>RL</td>\n      <td>80.0</td>\n      <td>11622</td>\n      <td>Pave</td>\n      <td>NA</td>\n      <td>Reg</td>\n      <td>Lvl</td>\n      <td>AllPub</td>\n      <td>Inside</td>\n      <td>...</td>\n      <td>120</td>\n      <td>0</td>\n      <td>NA</td>\n      <td>MnPrv</td>\n      <td>NA</td>\n      <td>0</td>\n      <td>6</td>\n      <td>2010</td>\n      <td>WD</td>\n      <td>Normal</td>\n    </tr>\n    <tr>\n      <th>1462</th>\n      <td>20</td>\n      <td>RL</td>\n      <td>81.0</td>\n      <td>14267</td>\n      <td>Pave</td>\n      <td>NA</td>\n      <td>IR1</td>\n      <td>Lvl</td>\n      <td>AllPub</td>\n      <td>Corner</td>\n      <td>...</td>\n      <td>0</td>\n      <td>0</td>\n      <td>NA</td>\n      <td>NA</td>\n      <td>Gar2</td>\n      <td>12500</td>\n      <td>6</td>\n      <td>2010</td>\n      <td>WD</td>\n      <td>Normal</td>\n    </tr>\n    <tr>\n      <th>1463</th>\n      <td>60</td>\n      <td>RL</td>\n      <td>74.0</td>\n      <td>13830</td>\n      <td>Pave</td>\n      <td>NA</td>\n      <td>IR1</td>\n      <td>Lvl</td>\n      <td>AllPub</td>\n      <td>Inside</td>\n      <td>...</td>\n      <td>0</td>\n      <td>0</td>\n      <td>NA</td>\n      <td>MnPrv</td>\n      <td>NA</td>\n      <td>0</td>\n      <td>3</td>\n      <td>2010</td>\n      <td>WD</td>\n      <td>Normal</td>\n    </tr>\n    <tr>\n      <th>1464</th>\n      <td>60</td>\n      <td>RL</td>\n      <td>78.0</td>\n      <td>9978</td>\n      <td>Pave</td>\n      <td>NA</td>\n      <td>IR1</td>\n      <td>Lvl</td>\n      <td>AllPub</td>\n      <td>Inside</td>\n      <td>...</td>\n      <td>0</td>\n      <td>0</td>\n      <td>NA</td>\n      <td>NA</td>\n      <td>NA</td>\n      <td>0</td>\n      <td>6</td>\n      <td>2010</td>\n      <td>WD</td>\n      <td>Normal</td>\n    </tr>\n    <tr>\n      <th>1465</th>\n      <td>120</td>\n      <td>RL</td>\n      <td>43.0</td>\n      <td>5005</td>\n      <td>Pave</td>\n      <td>NA</td>\n      <td>IR1</td>\n      <td>HLS</td>\n      <td>AllPub</td>\n      <td>Inside</td>\n      <td>...</td>\n      <td>144</td>\n      <td>0</td>\n      <td>NA</td>\n      <td>NA</td>\n      <td>NA</td>\n      <td>0</td>\n      <td>1</td>\n      <td>2010</td>\n      <td>WD</td>\n      <td>Normal</td>\n    </tr>\n  </tbody>\n</table>\n<p>5 rows × 79 columns</p>\n</div>"
     },
     "execution_count": 8,
     "metadata": {},
     "output_type": "execute_result"
    }
   ],
   "source": [
    "test_x=pd.read_csv('house-prices-advanced-regression-techniques/test.csv',index_col='Id')\n",
    "test_x[['MSSubClass','MoSold','OverallCond']]=test_x[['MSSubClass','MoSold','OverallCond']].astype('object')\n",
    "test_y=pd.read_csv('house-prices-advanced-regression-techniques/sample_submission.csv',index_col='Id')\n",
    "test_x=test_x.replace('NA ',np.nan)\n",
    "d=test_x.shape\n",
    "test_x=test_x.fillna({'Alley': 'NA', 'FireplaceQu': 'NA', 'PoolQC': 'NA', 'Fence': 'NA', 'MiscFeature': 'NA',\n",
    "                                         'BsmtQual': 'NA', 'BsmtCond': 'NA', 'BsmtExposure': 'NA', 'BsmtFinType1': 'NA', 'BsmtFinType2': 'NA',\n",
    "                                         'GarageType': 'NA', 'GarageFinish': 'NA', 'GarageQual': 'NA', 'GarageCond': 'NA'})\n",
    "na_l=test_x.columns[test_x.isna().any()].tolist() # columns with nan in them\n",
    "me=test_x[na_l].select_dtypes(\"float64\").median()\n",
    "for item in test_x[na_l].select_dtypes(\"object\"):\n",
    "    tem=test_x[item].value_counts()\n",
    "    tem1=tem.idxmax()\n",
    "    test_x[item]=tem1\n",
    "for item in me.index:\n",
    "    test_x[item]=test_x[item].replace(np.nan,me[item])\n",
    "test_x.head()"
   ]
  },
  {
   "cell_type": "code",
   "execution_count": 9,
   "metadata": {
    "pycharm": {
     "name": "#%%\n"
    }
   },
   "outputs": [],
   "source": [
    "train_x=training.iloc[:,:-1]\n",
    "train_y=training.iloc[:,-1]"
   ]
  },
  {
   "cell_type": "code",
   "execution_count": 10,
   "metadata": {
    "pycharm": {
     "name": "#%%\n"
    }
   },
   "outputs": [
    {
     "data": {
      "text/plain": "KitchenAbvGr    -0.135907\nEnclosedPorch   -0.128578\nYrSold          -0.028923\nLowQualFinSF    -0.025606\nMiscVal         -0.021190\nBsmtHalfBath    -0.016844\nBsmtFinSF2      -0.011378\n3SsnPorch        0.044584\nPoolArea         0.092404\nScreenPorch      0.111447\nBedroomAbvGr     0.168213\nBsmtUnfSF        0.214479\nBsmtFullBath     0.227122\nLotArea          0.263843\nHalfBath         0.284108\nOpenPorchSF      0.315856\n2ndFlrSF         0.319334\nWoodDeckSF       0.324413\nLotFrontage      0.334771\nBsmtFinSF1       0.386420\nGarageYrBlt      0.466754\nFireplaces       0.466929\nMasVnrArea       0.472614\nYearRemodAdd     0.507101\nYearBuilt        0.522897\nTotRmsAbvGrd     0.533723\nFullBath         0.560664\n1stFlrSF         0.605852\nTotalBsmtSF      0.613581\nGarageArea       0.623431\nGarageCars       0.640409\nGrLivArea        0.708624\nOverallQual      0.790982\nSalePrice        1.000000\nName: SalePrice, dtype: float64"
     },
     "execution_count": 10,
     "metadata": {},
     "output_type": "execute_result"
    }
   ],
   "source": [
    "c=training.corr()\n",
    "c['SalePrice'].sort_values()"
   ]
  }
 ],
 "metadata": {
  "kernelspec": {
   "display_name": "PyCharm (CS675)",
   "language": "python",
   "name": "pycharm-3f539605"
  },
  "language_info": {
   "codemirror_mode": {
    "name": "ipython",
    "version": 3
   },
   "file_extension": ".py",
   "mimetype": "text/x-python",
   "name": "python",
   "nbconvert_exporter": "python",
   "pygments_lexer": "ipython3",
   "version": "3.9.6"
  }
 },
 "nbformat": 4,
 "nbformat_minor": 1
}