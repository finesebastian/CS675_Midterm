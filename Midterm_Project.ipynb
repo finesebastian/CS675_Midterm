{
 "cells": [
  {
   "cell_type": "code",
   "execution_count": 305,
   "metadata": {
    "pycharm": {
     "name": "#%%\n"
    }
   },
   "outputs": [],
   "source": [
    "import pandas as pd\n",
    "import numpy as np"
   ]
  },
  {
   "cell_type": "code",
   "execution_count": 306,
   "metadata": {
    "pycharm": {
     "name": "#%%\n"
    }
   },
   "outputs": [],
   "source": [
    "training=pd.read_csv('house-prices-advanced-regression-techniques/train.csv',index_col='Id')\n",
    "test_x=pd.read_csv('house-prices-advanced-regression-techniques/test.csv',index_col='Id')\n",
    "train_x=training.iloc[:,:-1]\n",
    "train_y=training.iloc[:,-1]\n",
    "test_y=pd.read_csv('house-prices-advanced-regression-techniques/sample_submission.csv',index_col='Id')"
   ]
  },
  {
   "cell_type": "code",
   "execution_count": 307,
   "metadata": {
    "pycharm": {
     "name": "#%%\n"
    }
   },
   "outputs": [],
   "source": [
    "data=pd.concat([train_x,test_x])\n",
    "data=data.fillna({'Alley':'NA','BsmtQual':'NA','BsmtCond':'NA','BsmtExposure':'NA','BsmtFinType1':'NA','BsmtFinType2':'NA','FireplaceQu':'NA','GarageType':'NA','GarageFinish':'NA','GarageQual':'NA','GarageCond':'NA','PoolQC':'NA','Fence':'NA','MiscFeature':'NA','Exterior2nd':'NA'})\n",
    "cate=['MSZoning','Utilities','Exterior1st','MasVnrType','Electrical','KitchenQual','Functional','GarageYrBlt','SaleType']\n",
    "for item in cate:\n",
    "    data[item]=data[item].fillna(data[item].value_counts().index[0])\n",
    "tem=np.where(data['MasVnrType']=='None',0,data['MasVnrArea'])\n",
    "data['MasVnrArea']=data['MasVnrArea'].fillna(pd.Series(tem))\n",
    "tem=np.where(data['BsmtFinType1']=='NA',0,data['BsmtFinSF1'])\n",
    "data['BsmtFinSF1']=data['BsmtFinSF1'].fillna(pd.Series(tem))\n",
    "tem=np.where(data['BsmtFinType2']=='NA',0,data['BsmtFinSF2'])\n",
    "data['BsmtFinSF2']=data['BsmtFinSF2'].fillna(pd.Series(tem))\n",
    "tem=np.where(data['BsmtQual']=='NA',0,data['BsmtUnfSF'])\n",
    "data['BsmtUnfSF']=data['BsmtUnfSF'].fillna(pd.Series(tem))\n",
    "tem=np.where(data['BsmtQual']=='NA',0,data['BsmtHalfBath'])\n",
    "data['BsmtHalfBath']=data['BsmtHalfBath'].fillna(pd.Series(tem))\n",
    "tem=np.where(data['BsmtQual']=='NA',0,data['BsmtFullBath'])\n",
    "data['BsmtFullBath']=data['BsmtFullBath'].fillna(pd.Series(tem))\n",
    "tem=np.where(data['GarageType']=='NA',0,data['GarageCars'])\n",
    "data['GarageCars']=data['GarageCars'].fillna(pd.Series(tem))\n",
    "tem=np.where(data['GarageType']=='NA',0,data['GarageArea'])\n",
    "data['GarageArea']=data['GarageArea'].fillna(pd.Series(tem))\n",
    "data['LotFrontage']=data['LotFrontage'].fillna(np.nanmedian(data['LotFrontage']))\n",
    "data['TotalBsmtSF']=(data['BsmtFinSF1']+data['BsmtFinSF2']+data['BsmtUnfSF'])\n",
    "data['TotalSF']=data['TotalBsmtSF']+data['1stFlrSF']+data['2ndFlrSF']\n",
    "data['Total_sqr_footage'] = (data['BsmtFinSF1']+data['BsmtFinSF2']+data['1stFlrSF']+data['2ndFlrSF'])\n",
    "data['Total_Bathrooms'] = (data['FullBath'] + (0.5*data['HalfBath'])+data['BsmtFullBath']+(0.5*data['BsmtHalfBath']))\n",
    "data['Total_porch_sf'] = (data['OpenPorchSF']+data['3SsnPorch']+data['EnclosedPorch'] + data['ScreenPorch']+data['WoodDeckSF'])"
   ]
  },
  {
   "cell_type": "code",
   "execution_count": 308,
   "outputs": [
    {
     "data": {
      "text/plain": "KitchenAbvGr        -0.135907\nEnclosedPorch       -0.128578\nMSSubClass          -0.084284\nOverallCond         -0.077856\nYrSold              -0.028923\nLowQualFinSF        -0.025606\nMiscVal             -0.021190\nBsmtHalfBath        -0.016844\nBsmtFinSF2          -0.011378\n3SsnPorch            0.044584\nMoSold               0.046432\nPoolArea             0.092404\nScreenPorch          0.111447\nBedroomAbvGr         0.168213\nBsmtUnfSF            0.214479\nBsmtFullBath         0.227122\nLotArea              0.263843\nHalfBath             0.284108\nOpenPorchSF          0.315856\n2ndFlrSF             0.319334\nWoodDeckSF           0.324413\nLotFrontage          0.334544\nBsmtFinSF1           0.386420\nTotal_porch_sf       0.390993\nGarageYrBlt          0.397778\nFireplaces           0.466929\nMasVnrArea           0.472645\nYearRemodAdd         0.507101\nYearBuilt            0.522897\nTotRmsAbvGrd         0.533723\nFullBath             0.560664\n1stFlrSF             0.605852\nTotalBsmtSF          0.613581\nGarageArea           0.623431\nTotal_Bathrooms      0.631731\nGarageCars           0.640409\nTotal_sqr_footage    0.708047\nGrLivArea            0.708624\nTotalSF              0.782260\nOverallQual          0.790982\nSalePrice            1.000000\nName: SalePrice, dtype: float64"
     },
     "execution_count": 308,
     "metadata": {},
     "output_type": "execute_result"
    }
   ],
   "source": [
    "train_x=data.iloc[0:1460,:]\n",
    "test_x=data.iloc[1460:,:]\n",
    "training=train_x.join(train_y)\n",
    "testing=test_x.join(test_y)\n",
    "training.head()\n",
    "c=training.corr()\n",
    "c['SalePrice'].sort_values()"
   ],
   "metadata": {
    "collapsed": false,
    "pycharm": {
     "name": "#%%\n"
    }
   }
  },
  {
   "cell_type": "code",
   "execution_count": 309,
   "outputs": [
    {
     "data": {
      "text/plain": "<matplotlib.collections.PathCollection at 0x2577c151ac0>"
     },
     "execution_count": 309,
     "metadata": {},
     "output_type": "execute_result"
    },
    {
     "data": {
      "text/plain": "<Figure size 432x288 with 1 Axes>",
      "image/png": "[encoded data removed]"
     },
     "metadata": {
      "needs_background": "light"
     },
     "output_type": "display_data"
    }
   ],
   "source": [
    "import seaborn as sns\n",
    "from scipy.stats import skew\n",
    "import matplotlib.pyplot as plt\n",
    "plt.scatter(x=data['Total_porch_sf'],y=pd.concat([training,testing])['SalePrice'])\n",
    "plt.scatter(x=train_x['Total_porch_sf'],y=train_y)\n",
    "#plt.scatter(x=test_x['TotalSF'],y=test_y)"
   ],
   "metadata": {
    "collapsed": false,
    "pycharm": {
     "name": "#%%\n"
    }
   }
  },
  {
   "cell_type": "code",
   "execution_count": 310,
   "outputs": [
    {
     "name": "stdout",
     "output_type": "stream",
     "text": [
      "Mean Absolute Error: 0.2173779457400908\n",
      "Mean Squared Error: 0.07224707941301016\n",
      "Root Mean Squared Error: 0.2687881682905893\n",
      "R-squared Error: -7.915032353744881\n"
     ]
    }
   ],
   "source": [
    "from sklearn.linear_model import LinearRegression\n",
    "from sklearn import metrics\n",
    "%matplotlib inline\n",
    "train_x1=train_x[['Total_sqr_footage','Total_porch_sf']]\n",
    "train_y1=np.log(train_y)\n",
    "test_x1=test_x[['Total_sqr_footage','Total_porch_sf']]\n",
    "test_y1=np.log(test_y)\n",
    "regressor = LinearRegression()\n",
    "regressor.fit(train_x1, train_y1)\n",
    "y_pred = regressor.predict(test_x1)\n",
    "print('Mean Absolute Error:', metrics.mean_absolute_error(test_y1, y_pred))\n",
    "print('Mean Squared Error:', metrics.mean_squared_error(test_y1, y_pred))\n",
    "print('Root Mean Squared Error:', np.sqrt(metrics.mean_squared_error(test_y1, y_pred)))\n",
    "print('R-squared Error:', metrics.r2_score(test_y1.values.reshape(-1,1), y_pred))"
   ],
   "metadata": {
    "collapsed": false,
    "pycharm": {
     "name": "#%%\n"
    }
   }
  }
 ],
 "metadata": {
  "kernelspec": {
   "display_name": "PyCharm (CS675)",
   "language": "python",
   "name": "pycharm-3f539605"
  },
  "language_info": {
   "codemirror_mode": {
    "name": "ipython",
    "version": 3
   },
   "file_extension": ".py",
   "mimetype": "text/x-python",
   "name": "python",
   "nbconvert_exporter": "python",
   "pygments_lexer": "ipython3",
   "version": "3.9.6"
  }
 },
 "nbformat": 4,
 "nbformat_minor": 1
}