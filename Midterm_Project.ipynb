{
 "cells": [
  {
   "cell_type": "code",
   "execution_count": 132,
   "metadata": {
    "pycharm": {
     "name": "#%%\n"
    }
   },
   "outputs": [],
   "source": [
    "import matplotlib.pyplot as plt\n",
    "import pandas as pd\n",
    "import numpy as np\n",
    "from scipy.stats import iqr"
   ]
  },
  {
   "cell_type": "code",
   "execution_count": 133,
   "outputs": [],
   "source": [
    "def get_cat_num_features(df):\n",
    "    num_features = []\n",
    "    cat_features = []\n",
    "    for col in df.columns:\n",
    "        if df[col].dtype==\"float64\" or df[col].dtype==\"int64\":\n",
    "            num_features.append(col)\n",
    "        else:\n",
    "            cat_features.append(col)\n",
    "    return num_features, cat_features\n",
    "def get_outliers(df, num_feat):\n",
    "    outlier_df = pd.DataFrame(columns=['Feature', 'Total Outliers','Upper limit', 'Lower limit'])\n",
    "    for col in num_feat:\n",
    "        lower=np.percentile(df[col],25)-(1.5*iqr(df[col]))\n",
    "        upper=np.percentile(df[col],75)+(1.5*iqr(df[col]))\n",
    "        upper_outliers = df[df[col] > upper]\n",
    "        lower_outliers = df[df[col] < lower]\n",
    "        total=lower_outliers.shape[0]+upper_outliers.shape[0]\n",
    "        if (total!=0) and (upper!=0 and lower!=0):\n",
    "            outlier_df = outlier_df.append({'Feature':col, 'Total Outliers': total,'Upper limit': upper, 'Lower limit':lower}, ignore_index=True)\n",
    "    return outlier_df\n",
    "def remove_outliers(df, outlier_df, num_feat):\n",
    "    for col in outlier_df['Feature'].to_list():\n",
    "        upper = outlier_df[outlier_df['Feature']== col ]['Upper limit'].values[0]\n",
    "        lower = outlier_df[outlier_df['Feature']== col ]['Lower limit'].values[0]\n",
    "        df[col] = np.where(df[col]>upper, upper, df[col])\n",
    "        df[col] = np.where(df[col]<lower, lower, df[col])\n",
    "    return df"
   ],
   "metadata": {
    "collapsed": false,
    "pycharm": {
     "name": "#%%\n"
    }
   }
  },
  {
   "cell_type": "code",
   "execution_count": 134,
   "outputs": [],
   "source": [
    "data=pd.read_csv('house-prices-advanced-regression-techniques/train.csv',index_col='Id')\n",
    "temp=data['SalePrice']\n",
    "data=data.drop(['SalePrice'],axis=1)\n",
    "data=data.fillna({'Alley':'NA','BsmtQual':'NA','BsmtCond':'NA','BsmtExposure':'NA','BsmtFinType1':'NA','BsmtFinType2':'NA','FireplaceQu':'NA','GarageType':'NA','GarageFinish':'NA','GarageQual':'NA','GarageCond':'NA','PoolQC':'NA','Fence':'NA','MiscFeature':'NA','Exterior2nd':'NA','Functional':'Typ'})\n",
    "cate=['MSZoning','Exterior1st','MasVnrType','Electrical','KitchenQual','Functional','GarageYrBlt','SaleType']\n",
    "for item in cate:\n",
    "    data[item]=data[item].fillna(data[item].value_counts().index[0])\n",
    "data=data.drop(['Utilities'],axis=1)\n",
    "data=data.drop(['KitchenAbvGr'],axis=1)\n",
    "tem=np.where(data['MasVnrType']=='None',0,data['MasVnrArea'])\n",
    "data['MasVnrArea']=data['MasVnrArea'].fillna(pd.Series(tem))\n",
    "tem=np.where(data['BsmtFinType1']=='NA',0,data['BsmtFinSF1'])\n",
    "data['BsmtFinSF1']=data['BsmtFinSF1'].fillna(pd.Series(tem))\n",
    "tem=np.where(data['BsmtFinType2']=='NA',0,data['BsmtFinSF2'])\n",
    "data['BsmtFinSF2']=data['BsmtFinSF2'].fillna(pd.Series(tem))\n",
    "tem=np.where(data['BsmtQual']=='NA',0,data['BsmtUnfSF'])\n",
    "data['BsmtUnfSF']=data['BsmtUnfSF'].fillna(pd.Series(tem))\n",
    "tem=np.where(data['BsmtQual']=='NA',0,data['BsmtHalfBath'])\n",
    "data['BsmtHalfBath']=data['BsmtHalfBath'].fillna(pd.Series(tem))\n",
    "tem=np.where(data['BsmtQual']=='NA',0,data['BsmtFullBath'])\n",
    "data['BsmtFullBath']=data['BsmtFullBath'].fillna(pd.Series(tem))\n",
    "tem=np.where(data['GarageType']=='NA',0,data['GarageCars'])\n",
    "data['GarageCars']=data['GarageCars'].fillna(pd.Series(tem))\n",
    "tem=np.where(data['GarageType']=='NA',0,data['GarageArea'])\n",
    "data['GarageArea']=data['GarageArea'].fillna(pd.Series(tem))\n",
    "data['LotFrontage']=data.groupby('Neighborhood')[\"LotFrontage\"].transform(lambda x: x.fillna(x.median()))\n",
    "data['TotalBsmtSF']=(data['BsmtFinSF1']+data['BsmtFinSF2']+data['BsmtUnfSF'])\n",
    "data['TotalSF']=data['TotalBsmtSF']+data['1stFlrSF']+data['2ndFlrSF']\n",
    "data['Total_sqr_footage'] = (data['BsmtFinSF1']+data['BsmtFinSF2']+data['1stFlrSF']+data['2ndFlrSF'])\n",
    "data['Total_Bathrooms'] = (data['FullBath'] + (0.5*data['HalfBath'])+data['BsmtFullBath']+(0.5*data['BsmtHalfBath']))\n",
    "data['Total_porch_sf'] = (data['OpenPorchSF']+data['3SsnPorch']+data['EnclosedPorch'] + data['ScreenPorch']+data['WoodDeckSF'])\n",
    "data['MSSubClass'] = data['MSSubClass'].apply(str)\n",
    "data['OverallCond'] = data['OverallCond'].astype(str)\n",
    "#data['KitchenAbvGr']=data['KitchenAbvGr'].fillna(data['KitchenAbvGr'].value_counts().index[0])\n",
    "tem=np.where(data['YrSold']>data['GarageYrBlt'],data['YrSold'],np.where(data['GarageYrBlt']>data['YearRemodAdd'],data['GarageYrBlt'],data['YearRemodAdd']))\n",
    "data['age']=tem-data['YearBuilt']\n",
    "data['YrSold'] = data['YrSold'].astype(str)\n",
    "data['MoSold'] = data['MoSold'].astype(str)\n",
    "data=data.join(temp)\n",
    "num_feat,cat_feat=get_cat_num_features(data)\n",
    "outlier_df = get_outliers(data, num_feat)\n",
    "data=remove_outliers(data,outlier_df,num_feat)"
   ],
   "metadata": {
    "collapsed": false,
    "pycharm": {
     "name": "#%%\n"
    }
   }
  },
  {
   "cell_type": "code",
   "execution_count": 135,
   "outputs": [
    {
     "name": "stdout",
     "output_type": "stream",
     "text": [
      "age                 -0.570938\n",
      "EnclosedPorch       -0.139925\n",
      "LowQualFinSF        -0.040036\n",
      "BsmtHalfBath        -0.026997\n",
      "MiscVal             -0.020362\n",
      "BsmtFinSF2          -0.007869\n",
      "3SsnPorch            0.050353\n",
      "PoolArea             0.055847\n",
      "ScreenPorch          0.108815\n",
      "BedroomAbvGr         0.199360\n",
      "BsmtUnfSF            0.216006\n",
      "BsmtFullBath         0.240345\n",
      "HalfBath             0.295110\n",
      "2ndFlrSF             0.316508\n",
      "WoodDeckSF           0.343660\n",
      "BsmtFinSF1           0.387586\n",
      "LotFrontage          0.392989\n",
      "OpenPorchSF          0.394637\n",
      "Total_porch_sf       0.411746\n",
      "GarageYrBlt          0.422186\n",
      "LotArea              0.435876\n",
      "MasVnrArea           0.451622\n",
      "Fireplaces           0.488253\n",
      "TotRmsAbvGrd         0.539339\n",
      "YearRemodAdd         0.552061\n",
      "YearBuilt            0.570327\n",
      "FullBath             0.583994\n",
      "1stFlrSF             0.621873\n",
      "TotalBsmtSF          0.645251\n",
      "GarageArea           0.660029\n",
      "Total_Bathrooms      0.666131\n",
      "GarageCars           0.675896\n",
      "GrLivArea            0.729311\n",
      "Total_sqr_footage    0.744944\n",
      "OverallQual          0.817680\n",
      "TotalSF              0.827890\n",
      "SalePrice            1.000000\n",
      "Name: SalePrice, dtype: float64\n"
     ]
    }
   ],
   "source": [
    "import seaborn as sns\n",
    "from sklearn.model_selection import train_test_split\n",
    "from sklearn.linear_model import LinearRegression\n",
    "from sklearn import metrics\n",
    "%matplotlib inline\n",
    "c=data.corr()\n",
    "print(c['SalePrice'].sort_values())\n",
    "x=data.iloc[:,:-1]\n",
    "y=data.iloc[:,-1]\n",
    "x_train, x_test, y_train, y_test = train_test_split(x, y, test_size=0.2, random_state=0)"
   ],
   "metadata": {
    "collapsed": false,
    "pycharm": {
     "name": "#%%\n"
    }
   }
  },
  {
   "cell_type": "code",
   "execution_count": 136,
   "outputs": [
    {
     "name": "stdout",
     "output_type": "stream",
     "text": [
      "Mean Absolute Error: 22277.174677614385\n",
      "Mean Squared Error: 967877002.2653437\n",
      "Root Mean Squared Error: 31110.72166095386\n",
      "R-squared Error: 0.7785592180685279\n"
     ]
    }
   ],
   "source": [
    "regressor = LinearRegression()\n",
    "regressor.fit(x_train[['TotalSF','OverallQual']],y_train)\n",
    "y_pred=regressor.predict(x_test[['TotalSF','OverallQual']])\n",
    "print('Mean Absolute Error:', metrics.mean_absolute_error(y_test, y_pred))\n",
    "print('Mean Squared Error:', metrics.mean_squared_error(y_test, y_pred))\n",
    "print('Root Mean Squared Error:', np.sqrt(metrics.mean_squared_error(y_test, y_pred)))\n",
    "print('R-squared Error:', metrics.r2_score(y_test, y_pred))"
   ],
   "metadata": {
    "collapsed": false,
    "pycharm": {
     "name": "#%%\n"
    }
   }
  }
 ],
 "metadata": {
  "kernelspec": {
   "display_name": "PyCharm (CS675)",
   "language": "python",
   "name": "pycharm-3f539605"
  },
  "language_info": {
   "codemirror_mode": {
    "name": "ipython",
    "version": 3
   },
   "file_extension": ".py",
   "mimetype": "text/x-python",
   "name": "python",
   "nbconvert_exporter": "python",
   "pygments_lexer": "ipython3",
   "version": "3.9.6"
  }
 },
 "nbformat": 4,
 "nbformat_minor": 1
}