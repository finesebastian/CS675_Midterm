{
 "cells": [
  {
   "cell_type": "code",
   "execution_count": 238,
   "metadata": {
    "pycharm": {
     "name": "#%%\n"
    }
   },
   "outputs": [],
   "source": [
    "import pandas as pd\n",
    "import numpy as np"
   ]
  },
  {
   "cell_type": "code",
   "execution_count": 239,
   "metadata": {
    "pycharm": {
     "name": "#%%\n"
    }
   },
   "outputs": [],
   "source": [
    "training=pd.read_csv('house-prices-advanced-regression-techniques/train.csv',index_col='Id')\n",
    "test_x=pd.read_csv('house-prices-advanced-regression-techniques/test.csv',index_col='Id')\n",
    "train_x=training.iloc[:,:-1]\n",
    "train_y=training.iloc[:,-1]\n",
    "test_y=pd.read_csv('house-prices-advanced-regression-techniques/sample_submission.csv',index_col='Id')"
   ]
  },
  {
   "cell_type": "code",
   "execution_count": 240,
   "metadata": {
    "pycharm": {
     "name": "#%%\n"
    }
   },
   "outputs": [
    {
     "data": {
      "text/plain": "    MSSubClass MSZoning  LotFrontage  LotArea Street Alley LotShape  \\\nId                                                                    \n1           60       RL         65.0     8450   Pave    NA      Reg   \n2           20       RL         80.0     9600   Pave    NA      Reg   \n3           60       RL         68.0    11250   Pave    NA      IR1   \n4           70       RL         60.0     9550   Pave    NA      IR1   \n5           60       RL         84.0    14260   Pave    NA      IR1   \n\n   LandContour Utilities LotConfig  ... MiscVal MoSold YrSold SaleType  \\\nId                                  ...                                  \n1          Lvl    AllPub    Inside  ...       0      2   2008       WD   \n2          Lvl    AllPub       FR2  ...       0      5   2007       WD   \n3          Lvl    AllPub    Inside  ...       0      9   2008       WD   \n4          Lvl    AllPub    Corner  ...       0      2   2006       WD   \n5          Lvl    AllPub       FR2  ...       0     12   2008       WD   \n\n   SaleCondition TotalSF  Total_sqr_footage  Total_Bathrooms  Total_porch_sf  \\\nId                                                                             \n1         Normal  2566.0             2416.0              3.5              61   \n2         Normal  2524.0             2240.0              2.5             298   \n3         Normal  2706.0             2272.0              3.5              42   \n4        Abnorml  2473.0             1933.0              2.0             307   \n5         Normal  3343.0             2853.0              3.5             276   \n\n    SalePrice  \nId             \n1      208500  \n2      181500  \n3      223500  \n4      140000  \n5      250000  \n\n[5 rows x 84 columns]",
      "text/html": "<div>\n<style scoped>\n    .dataframe tbody tr th:only-of-type {\n        vertical-align: middle;\n    }\n\n    .dataframe tbody tr th {\n        vertical-align: top;\n    }\n\n    .dataframe thead th {\n        text-align: right;\n    }\n</style>\n<table border=\"1\" class=\"dataframe\">\n  <thead>\n    <tr style=\"text-align: right;\">\n      <th></th>\n      <th>MSSubClass</th>\n      <th>MSZoning</th>\n      <th>LotFrontage</th>\n      <th>LotArea</th>\n      <th>Street</th>\n      <th>Alley</th>\n      <th>LotShape</th>\n      <th>LandContour</th>\n      <th>Utilities</th>\n      <th>LotConfig</th>\n      <th>...</th>\n      <th>MiscVal</th>\n      <th>MoSold</th>\n      <th>YrSold</th>\n      <th>SaleType</th>\n      <th>SaleCondition</th>\n      <th>TotalSF</th>\n      <th>Total_sqr_footage</th>\n      <th>Total_Bathrooms</th>\n      <th>Total_porch_sf</th>\n      <th>SalePrice</th>\n    </tr>\n    <tr>\n      <th>Id</th>\n      <th></th>\n      <th></th>\n      <th></th>\n      <th></th>\n      <th></th>\n      <th></th>\n      <th></th>\n      <th></th>\n      <th></th>\n      <th></th>\n      <th></th>\n      <th></th>\n      <th></th>\n      <th></th>\n      <th></th>\n      <th></th>\n      <th></th>\n      <th></th>\n      <th></th>\n      <th></th>\n      <th></th>\n    </tr>\n  </thead>\n  <tbody>\n    <tr>\n      <th>1</th>\n      <td>60</td>\n      <td>RL</td>\n      <td>65.0</td>\n      <td>8450</td>\n      <td>Pave</td>\n      <td>NA</td>\n      <td>Reg</td>\n      <td>Lvl</td>\n      <td>AllPub</td>\n      <td>Inside</td>\n      <td>...</td>\n      <td>0</td>\n      <td>2</td>\n      <td>2008</td>\n      <td>WD</td>\n      <td>Normal</td>\n      <td>2566.0</td>\n      <td>2416.0</td>\n      <td>3.5</td>\n      <td>61</td>\n      <td>208500</td>\n    </tr>\n    <tr>\n      <th>2</th>\n      <td>20</td>\n      <td>RL</td>\n      <td>80.0</td>\n      <td>9600</td>\n      <td>Pave</td>\n      <td>NA</td>\n      <td>Reg</td>\n      <td>Lvl</td>\n      <td>AllPub</td>\n      <td>FR2</td>\n      <td>...</td>\n      <td>0</td>\n      <td>5</td>\n      <td>2007</td>\n      <td>WD</td>\n      <td>Normal</td>\n      <td>2524.0</td>\n      <td>2240.0</td>\n      <td>2.5</td>\n      <td>298</td>\n      <td>181500</td>\n    </tr>\n    <tr>\n      <th>3</th>\n      <td>60</td>\n      <td>RL</td>\n      <td>68.0</td>\n      <td>11250</td>\n      <td>Pave</td>\n      <td>NA</td>\n      <td>IR1</td>\n      <td>Lvl</td>\n      <td>AllPub</td>\n      <td>Inside</td>\n      <td>...</td>\n      <td>0</td>\n      <td>9</td>\n      <td>2008</td>\n      <td>WD</td>\n      <td>Normal</td>\n      <td>2706.0</td>\n      <td>2272.0</td>\n      <td>3.5</td>\n      <td>42</td>\n      <td>223500</td>\n    </tr>\n    <tr>\n      <th>4</th>\n      <td>70</td>\n      <td>RL</td>\n      <td>60.0</td>\n      <td>9550</td>\n      <td>Pave</td>\n      <td>NA</td>\n      <td>IR1</td>\n      <td>Lvl</td>\n      <td>AllPub</td>\n      <td>Corner</td>\n      <td>...</td>\n      <td>0</td>\n      <td>2</td>\n      <td>2006</td>\n      <td>WD</td>\n      <td>Abnorml</td>\n      <td>2473.0</td>\n      <td>1933.0</td>\n      <td>2.0</td>\n      <td>307</td>\n      <td>140000</td>\n    </tr>\n    <tr>\n      <th>5</th>\n      <td>60</td>\n      <td>RL</td>\n      <td>84.0</td>\n      <td>14260</td>\n      <td>Pave</td>\n      <td>NA</td>\n      <td>IR1</td>\n      <td>Lvl</td>\n      <td>AllPub</td>\n      <td>FR2</td>\n      <td>...</td>\n      <td>0</td>\n      <td>12</td>\n      <td>2008</td>\n      <td>WD</td>\n      <td>Normal</td>\n      <td>3343.0</td>\n      <td>2853.0</td>\n      <td>3.5</td>\n      <td>276</td>\n      <td>250000</td>\n    </tr>\n  </tbody>\n</table>\n<p>5 rows × 84 columns</p>\n</div>"
     },
     "execution_count": 240,
     "metadata": {},
     "output_type": "execute_result"
    }
   ],
   "source": [
    "data=pd.concat([train_x,test_x])\n",
    "data=data.fillna({'Alley': 'NA', 'FireplaceQu': 'NA', 'PoolQC': 'NA', 'Fence': 'NA', 'MiscFeature': 'NA',\n",
    "                                         'BsmtQual': 'NA', 'BsmtCond': 'NA', 'BsmtExposure': 'NA', 'BsmtFinType1': 'NA', 'BsmtFinType2': 'NA',\n",
    "                                         'GarageType': 'NA', 'GarageFinish': 'NA', 'GarageQual': 'NA', 'GarageCond': 'NA'})\n",
    "na_l=data.columns[data.isna().any()].tolist()\n",
    "me=data[na_l].select_dtypes(\"float64\").median()\n",
    "for item in data[na_l].select_dtypes(\"object\"):\n",
    "    tem=data[item].value_counts()\n",
    "    tem1=tem.idxmax()\n",
    "    data[item]=data[item].replace(np.nan,tem1)\n",
    "for item in me.index:\n",
    "    data[item]=data[item].replace(np.nan,me[item])\n",
    "data['TotalSF']=data['TotalBsmtSF']+data['1stFlrSF']+data['2ndFlrSF']\n",
    "data['Total_sqr_footage'] = (data['BsmtFinSF1']+data['BsmtFinSF2']+data['1stFlrSF']+data['2ndFlrSF'])\n",
    "data['Total_Bathrooms'] = (data['FullBath'] + (0.5*data['HalfBath'])+data['BsmtFullBath']+(0.5*data['BsmtHalfBath']))\n",
    "data['Total_porch_sf'] = (data['OpenPorchSF']+data['3SsnPorch']+data['EnclosedPorch'] + data['ScreenPorch']+data['WoodDeckSF'])\n",
    "train_x=data.iloc[0:1460,:]\n",
    "test_x=data.iloc[1460:,:]\n",
    "training=train_x.join(train_y)\n",
    "testing=test_x.join(test_y)\n",
    "training.head()"
   ]
  },
  {
   "cell_type": "code",
   "execution_count": 241,
   "outputs": [],
   "source": [
    "c=training.corr()"
   ],
   "metadata": {
    "collapsed": false,
    "pycharm": {
     "name": "#%%\n"
    }
   }
  },
  {
   "cell_type": "code",
   "execution_count": 242,
   "outputs": [
    {
     "name": "stderr",
     "output_type": "stream",
     "text": [
      "C:\\Users\\Sajin.LAPTOP-RE0DL8PH\\anaconda3\\envs\\CS675\\lib\\site-packages\\seaborn\\distributions.py:2619: FutureWarning: `distplot` is a deprecated function and will be removed in a future version. Please adapt your code to use either `displot` (a figure-level function with similar flexibility) or `histplot` (an axes-level function for histograms).\n",
      "  warnings.warn(msg, FutureWarning)\n"
     ]
    },
    {
     "data": {
      "text/plain": "-0.05836693434922495"
     },
     "execution_count": 242,
     "metadata": {},
     "output_type": "execute_result"
    },
    {
     "data": {
      "text/plain": "<Figure size 432x288 with 1 Axes>",
      "image/png": "[encoded data removed]"
     },
     "metadata": {
      "needs_background": "light"
     },
     "output_type": "display_data"
    }
   ],
   "source": [
    "import seaborn as sns\n",
    "from scipy.stats import skew\n",
    "sns.distplot(np.log(train_x['Total_sqr_footage']))\n",
    "skew(np.log(train_x['Total_sqr_footage']))"
   ],
   "metadata": {
    "collapsed": false,
    "pycharm": {
     "name": "#%%\n"
    }
   }
  },
  {
   "cell_type": "code",
   "execution_count": 243,
   "outputs": [
    {
     "name": "stdout",
     "output_type": "stream",
     "text": [
      "Mean Absolute Error: 0.22695339100362982\n",
      "Mean Squared Error: 0.08080270764968073\n",
      "Root Mean Squared Error: 0.2842581707703065\n",
      "R-squared Error: -8.970766414640304\n"
     ]
    }
   ],
   "source": [
    "from sklearn.linear_model import LinearRegression\n",
    "from sklearn import metrics\n",
    "%matplotlib inline\n",
    "train_x1=np.log(train_x['Total_sqr_footage'])\n",
    "train_y1=np.log(train_y)\n",
    "test_x1=np.log(test_x['Total_sqr_footage'])\n",
    "test_y1=np.log(test_y)\n",
    "regressor = LinearRegression()\n",
    "regressor.fit(train_x1.values.reshape(-1,1), train_y1)\n",
    "y_pred = regressor.predict(test_x1.values.reshape(-1,1))\n",
    "print('Mean Absolute Error:', metrics.mean_absolute_error(test_y1, y_pred))\n",
    "print('Mean Squared Error:', metrics.mean_squared_error(test_y1, y_pred))\n",
    "print('Root Mean Squared Error:', np.sqrt(metrics.mean_squared_error(test_y1, y_pred)))\n",
    "print('R-squared Error:', metrics.r2_score(test_y1.values.reshape(-1,1), y_pred))"
   ],
   "metadata": {
    "collapsed": false,
    "pycharm": {
     "name": "#%%\n"
    }
   }
  }
 ],
 "metadata": {
  "kernelspec": {
   "display_name": "PyCharm (CS675)",
   "language": "python",
   "name": "pycharm-3f539605"
  },
  "language_info": {
   "codemirror_mode": {
    "name": "ipython",
    "version": 3
   },
   "file_extension": ".py",
   "mimetype": "text/x-python",
   "name": "python",
   "nbconvert_exporter": "python",
   "pygments_lexer": "ipython3",
   "version": "3.9.6"
  }
 },
 "nbformat": 4,
 "nbformat_minor": 1
}