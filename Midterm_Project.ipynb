{
 "cells": [
  {
   "cell_type": "code",
   "execution_count": 69,
   "metadata": {},
   "outputs": [],
   "source": [
    "import pandas as pd\n",
    "import numpy as np"
   ]
  },
  {
   "cell_type": "code",
   "execution_count": 70,
   "metadata": {
    "pycharm": {
     "name": "#%%\n"
    }
   },
   "outputs": [
    {
     "name": "stdout",
     "output_type": "stream",
     "text": [
      "[nan 'Grvl' 'Pave']\n",
      "[nan 'Ex' 'Fa' 'Gd']\n",
      "[nan 'MnPrv' 'GdWo' 'GdPrv' 'MnWw']\n",
      "[nan 'Shed' 'Gar2' 'Othr' 'TenC']\n",
      "Index(['Alley', 'PoolQC', 'Fence', 'MiscFeature'], dtype='object')\n",
      "Index(['Alley', 'PoolQC', 'Fence', 'MiscFeature'], dtype='object')\n"
     ]
    },
    {
     "data": {
      "text/plain": "    MSSubClass MSZoning  LotFrontage  LotArea Street LotShape LandContour  \\\nId                                                                          \n1           60       RL         65.0     8450   Pave      Reg         Lvl   \n2           20       RL         80.0     9600   Pave      Reg         Lvl   \n3           60       RL         68.0    11250   Pave      IR1         Lvl   \n4           70       RL         60.0     9550   Pave      IR1         Lvl   \n5           60       RL         84.0    14260   Pave      IR1         Lvl   \n\n   Utilities LotConfig LandSlope  ... MiscVal MoSold YrSold SaleType  \\\nId                                ...                                  \n1     AllPub    Inside       Gtl  ...       0      2   2008       WD   \n2     AllPub       FR2       Gtl  ...       0      5   2007       WD   \n3     AllPub    Inside       Gtl  ...       0      9   2008       WD   \n4     AllPub    Corner       Gtl  ...       0      2   2006       WD   \n5     AllPub       FR2       Gtl  ...       0     12   2008       WD   \n\n   SaleCondition  Is there a MiscFeature ?  Is there a Fence ?  \\\nId                                                               \n1         Normal                         0                   0   \n2         Normal                         0                   0   \n3         Normal                         0                   0   \n4        Abnorml                         0                   0   \n5         Normal                         0                   0   \n\n    Is there a PoolQC ?  Is there a Alley ? SalePrice  \nId                                                     \n1                     0                   0    208500  \n2                     0                   0    181500  \n3                     0                   0    223500  \n4                     0                   0    140000  \n5                     0                   0    250000  \n\n[5 rows x 80 columns]",
      "text/html": "<div>\n<style scoped>\n    .dataframe tbody tr th:only-of-type {\n        vertical-align: middle;\n    }\n\n    .dataframe tbody tr th {\n        vertical-align: top;\n    }\n\n    .dataframe thead th {\n        text-align: right;\n    }\n</style>\n<table border=\"1\" class=\"dataframe\">\n  <thead>\n    <tr style=\"text-align: right;\">\n      <th></th>\n      <th>MSSubClass</th>\n      <th>MSZoning</th>\n      <th>LotFrontage</th>\n      <th>LotArea</th>\n      <th>Street</th>\n      <th>LotShape</th>\n      <th>LandContour</th>\n      <th>Utilities</th>\n      <th>LotConfig</th>\n      <th>LandSlope</th>\n      <th>...</th>\n      <th>MiscVal</th>\n      <th>MoSold</th>\n      <th>YrSold</th>\n      <th>SaleType</th>\n      <th>SaleCondition</th>\n      <th>Is there a MiscFeature ?</th>\n      <th>Is there a Fence ?</th>\n      <th>Is there a PoolQC ?</th>\n      <th>Is there a Alley ?</th>\n      <th>SalePrice</th>\n    </tr>\n    <tr>\n      <th>Id</th>\n      <th></th>\n      <th></th>\n      <th></th>\n      <th></th>\n      <th></th>\n      <th></th>\n      <th></th>\n      <th></th>\n      <th></th>\n      <th></th>\n      <th></th>\n      <th></th>\n      <th></th>\n      <th></th>\n      <th></th>\n      <th></th>\n      <th></th>\n      <th></th>\n      <th></th>\n      <th></th>\n      <th></th>\n    </tr>\n  </thead>\n  <tbody>\n    <tr>\n      <th>1</th>\n      <td>60</td>\n      <td>RL</td>\n      <td>65.0</td>\n      <td>8450</td>\n      <td>Pave</td>\n      <td>Reg</td>\n      <td>Lvl</td>\n      <td>AllPub</td>\n      <td>Inside</td>\n      <td>Gtl</td>\n      <td>...</td>\n      <td>0</td>\n      <td>2</td>\n      <td>2008</td>\n      <td>WD</td>\n      <td>Normal</td>\n      <td>0</td>\n      <td>0</td>\n      <td>0</td>\n      <td>0</td>\n      <td>208500</td>\n    </tr>\n    <tr>\n      <th>2</th>\n      <td>20</td>\n      <td>RL</td>\n      <td>80.0</td>\n      <td>9600</td>\n      <td>Pave</td>\n      <td>Reg</td>\n      <td>Lvl</td>\n      <td>AllPub</td>\n      <td>FR2</td>\n      <td>Gtl</td>\n      <td>...</td>\n      <td>0</td>\n      <td>5</td>\n      <td>2007</td>\n      <td>WD</td>\n      <td>Normal</td>\n      <td>0</td>\n      <td>0</td>\n      <td>0</td>\n      <td>0</td>\n      <td>181500</td>\n    </tr>\n    <tr>\n      <th>3</th>\n      <td>60</td>\n      <td>RL</td>\n      <td>68.0</td>\n      <td>11250</td>\n      <td>Pave</td>\n      <td>IR1</td>\n      <td>Lvl</td>\n      <td>AllPub</td>\n      <td>Inside</td>\n      <td>Gtl</td>\n      <td>...</td>\n      <td>0</td>\n      <td>9</td>\n      <td>2008</td>\n      <td>WD</td>\n      <td>Normal</td>\n      <td>0</td>\n      <td>0</td>\n      <td>0</td>\n      <td>0</td>\n      <td>223500</td>\n    </tr>\n    <tr>\n      <th>4</th>\n      <td>70</td>\n      <td>RL</td>\n      <td>60.0</td>\n      <td>9550</td>\n      <td>Pave</td>\n      <td>IR1</td>\n      <td>Lvl</td>\n      <td>AllPub</td>\n      <td>Corner</td>\n      <td>Gtl</td>\n      <td>...</td>\n      <td>0</td>\n      <td>2</td>\n      <td>2006</td>\n      <td>WD</td>\n      <td>Abnorml</td>\n      <td>0</td>\n      <td>0</td>\n      <td>0</td>\n      <td>0</td>\n      <td>140000</td>\n    </tr>\n    <tr>\n      <th>5</th>\n      <td>60</td>\n      <td>RL</td>\n      <td>84.0</td>\n      <td>14260</td>\n      <td>Pave</td>\n      <td>IR1</td>\n      <td>Lvl</td>\n      <td>AllPub</td>\n      <td>FR2</td>\n      <td>Gtl</td>\n      <td>...</td>\n      <td>0</td>\n      <td>12</td>\n      <td>2008</td>\n      <td>WD</td>\n      <td>Normal</td>\n      <td>0</td>\n      <td>0</td>\n      <td>0</td>\n      <td>0</td>\n      <td>250000</td>\n    </tr>\n  </tbody>\n</table>\n<p>5 rows × 80 columns</p>\n</div>"
     },
     "execution_count": 70,
     "metadata": {},
     "output_type": "execute_result"
    }
   ],
   "source": [
    "training=pd.read_csv('house-prices-advanced-regression-techniques/train.csv',index_col='Id')\n",
    "training=training.replace('NA ',np.nan)\n",
    "d=training.shape\n",
    "temp=training.isna().sum()[training.isna().sum()>=(d[0]*0.75)].index\n",
    "for col in temp:\n",
    "    print(training[col].unique())\n",
    "print(temp)\n",
    "na_l=training.columns[training.isna().any()].tolist() # columns with nan in them\n",
    "me=training[na_l].select_dtypes(\"float64\").median()\n",
    "for item in temp:\n",
    "    m=training[item].isnull().values\n",
    "    training.insert((d[1]-1),(\"Is there a \"+item+\" ?\"),~m)\n",
    "    training[(\"Is there a \"+item+\" ?\")]=training[(\"Is there a \"+item+\" ?\")].astype('int64')\n",
    "for item in training[na_l].select_dtypes(\"object\"):\n",
    "    if item not in temp:\n",
    "        tem=training[item].value_counts()\n",
    "        tem1=tem.idxmax()\n",
    "        training[item]=tem1\n",
    "for item in me.index:\n",
    "    training[item]=training[item].replace(np.nan,me[item])\n",
    "training=training.drop(columns=temp)\n",
    "col=training.pop('SalePrice')\n",
    "d=training.shape\n",
    "training.insert(d[1],'SalePrice',col)\n",
    "print(temp)\n",
    "training.head()"
   ]
  },
  {
   "cell_type": "code",
   "execution_count": 71,
   "metadata": {
    "pycharm": {
     "name": "#%%\n"
    }
   },
   "outputs": [
    {
     "name": "stdout",
     "output_type": "stream",
     "text": [
      "Index(['Alley', 'PoolQC', 'Fence', 'MiscFeature'], dtype='object')\n"
     ]
    }
   ],
   "source": [
    "test_x=pd.read_csv('house-prices-advanced-regression-techniques/test.csv',index_col='Id')\n",
    "test_y=pd.read_csv('house-prices-advanced-regression-techniques/sample_submission.csv',index_col='Id')\n",
    "test_x=test_x.replace('NA ',np.nan)\n",
    "d=test_x.shape\n",
    "temp=test_x.isna().sum()[test_x.isna().sum()>=(d[0]*0.75)].index\n",
    "na_l=test_x.columns[test_x.isna().any()].tolist() # columns with nan in them\n",
    "me=test_x[na_l].select_dtypes(\"float64\").median()\n",
    "for item in temp:\n",
    "    m=test_x[item].isnull().values\n",
    "    test_x.insert((d[1]-1),(\"Is there a \"+item+\" ?\"),~m)\n",
    "    test_x[(\"Is there a \"+item+\" ?\")]=test_x[(\"Is there a \"+item+\" ?\")].astype('int64')\n",
    "for item in test_x[na_l].select_dtypes(\"object\"):\n",
    "    if item not in temp:\n",
    "        tem=test_x[item].value_counts()\n",
    "        tem1=tem.idxmax()\n",
    "        test_x[item]=tem1\n",
    "for item in me.index:\n",
    "    test_x[item]=test_x[item].replace(np.nan,me[item])\n",
    "test_x=test_x.drop(columns=temp)\n",
    "print(temp)\n",
    "test_x.head()\n",
    "training.iloc[:,-1]=(training.iloc[:,-1]-min(training.iloc[:,-1]))/(max(training.iloc[:,-1])-min(training.iloc[:,-1]))\n",
    "test_y.iloc[:,-1]=(test_y.iloc[:,-1]-min(test_y.iloc[:,-1]))/(max(test_y.iloc[:,-1])-min(test_y.iloc[:,-1]))"
   ]
  },
  {
   "cell_type": "code",
   "execution_count": 72,
   "metadata": {
    "pycharm": {
     "name": "#%%\n"
    }
   },
   "outputs": [],
   "source": [
    "train_x=training.iloc[:,:-1]\n",
    "train_y=training.iloc[:,-1]"
   ]
  },
  {
   "cell_type": "code",
   "execution_count": 73,
   "metadata": {
    "pycharm": {
     "name": "#%%\n"
    }
   },
   "outputs": [
    {
     "data": {
      "text/plain": "Is there a Fence ?         -0.172184\nKitchenAbvGr               -0.135907\nEnclosedPorch              -0.128578\nIs there a Alley ?         -0.123611\nMSSubClass                 -0.084284\nOverallCond                -0.077856\nIs there a MiscFeature ?   -0.072298\nYrSold                     -0.028923\nLowQualFinSF               -0.025606\nMiscVal                    -0.021190\nBsmtHalfBath               -0.016844\nBsmtFinSF2                 -0.011378\n3SsnPorch                   0.044584\nMoSold                      0.046432\nPoolArea                    0.092404\nIs there a PoolQC ?         0.093708\nScreenPorch                 0.111447\nBedroomAbvGr                0.168213\nBsmtUnfSF                   0.214479\nBsmtFullBath                0.227122\nLotArea                     0.263843\nHalfBath                    0.284108\nOpenPorchSF                 0.315856\n2ndFlrSF                    0.319334\nWoodDeckSF                  0.324413\nLotFrontage                 0.334771\nBsmtFinSF1                  0.386420\nGarageYrBlt                 0.466754\nFireplaces                  0.466929\nMasVnrArea                  0.472614\nYearRemodAdd                0.507101\nYearBuilt                   0.522897\nTotRmsAbvGrd                0.533723\nFullBath                    0.560664\n1stFlrSF                    0.605852\nTotalBsmtSF                 0.613581\nGarageArea                  0.623431\nGarageCars                  0.640409\nGrLivArea                   0.708624\nOverallQual                 0.790982\nSalePrice                   1.000000\nName: SalePrice, dtype: float64"
     },
     "execution_count": 73,
     "metadata": {},
     "output_type": "execute_result"
    }
   ],
   "source": [
    "c=training.corr()\n",
    "c['SalePrice'].sort_values()"
   ]
  },
  {
   "cell_type": "code",
   "execution_count": 73,
   "outputs": [],
   "source": [],
   "metadata": {
    "collapsed": false,
    "pycharm": {
     "name": "#%%\n"
    }
   }
  }
 ],
 "metadata": {
  "kernelspec": {
   "display_name": "PyCharm (CS675)",
   "language": "python",
   "name": "pycharm-3f539605"
  },
  "language_info": {
   "codemirror_mode": {
    "name": "ipython",
    "version": 3
   },
   "file_extension": ".py",
   "mimetype": "text/x-python",
   "name": "python",
   "nbconvert_exporter": "python",
   "pygments_lexer": "ipython3",
   "version": "3.9.6"
  }
 },
 "nbformat": 4,
 "nbformat_minor": 1
}