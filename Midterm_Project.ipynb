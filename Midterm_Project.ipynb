import pandas as pd
import numpy as np
#%%

training=pd.read_csv('house-prices-advanced-regression-techniques/train.csv',index_col='Id')
training=training.replace('NA ',np.nan)
d=training.shape
temp=training.isna().sum()[training.isna().sum()>=(d[0]/2)].index
na_l=training.columns[training.isna().any()].tolist() # columns with nan in them
me=training[na_l].select_dtypes("float64").median()
for item in temp:
    m=training[item].isnull().values
    training.insert((d[1]-1),("Is there a "+item+" ?"),~m)
    training[("Is there a "+item+" ?")]=training[("Is there a "+item+" ?")].astype('int64')
for item in training[na_l].select_dtypes("object"):
    if item not in temp:
        tem=training[item].value_counts()
        tem1=tem.idxmax()
        training[item]=tem1
for item in me.index:
    training[item]=training[item].replace(np.nan,me[item])
print(temp)
training.head()
#%%

train_x=training.iloc[:,:-1]
train_y=training.iloc[:,-1]
