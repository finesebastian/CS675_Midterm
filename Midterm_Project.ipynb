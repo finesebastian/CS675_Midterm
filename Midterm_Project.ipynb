import pandas as pd
import numpy as np
#%%

training=pd.read_csv('house-prices-advanced-regression-techniques/train.csv',index_col='Id')
training=training.replace('NA ',np.nan)
temp=training.isna().sum()[training.isna().sum()>=730].index
na_l=training.columns[training.isna().any()].tolist() # columns with nan in them
me=training[na_l].select_dtypes("float64").median()
for item in temp:
    m=training[item].isnull().values
    training[item]=~m
    training[item]=training[item].astype('int64')
for item in training[na_l].select_dtypes("object"):
    tem=training[item].value_counts()
    tem1=tem.idxmax()
    training[item]=tem1
for item in me.index:
    training[item]=training[item].replace(np.nan,me[item])
training.head()
#%%

train_x=training.iloc[:,:-1]
train_y=training.iloc[:,-1]
