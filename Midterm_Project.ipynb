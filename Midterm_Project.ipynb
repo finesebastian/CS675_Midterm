{
 "cells": [
  {
   "cell_type": "code",
   "execution_count": 177,
   "outputs": [],
   "source": [
    "import pandas as pd\n",
    "import numpy as np"
   ],
   "metadata": {
    "collapsed": false,
    "pycharm": {
     "name": "#%%\n"
    }
   }
  },
  {
   "cell_type": "code",
   "execution_count": 178,
   "outputs": [],
   "source": [
    "training=pd.read_csv('house-prices-advanced-regression-techniques/train.csv',index_col='Id')\n",
    "test_x=pd.read_csv('house-prices-advanced-regression-techniques/test.csv',index_col='Id')\n",
    "train_x=training.iloc[:,:-1]\n",
    "train_y=training.iloc[:,-1]\n",
    "test_y=pd.read_csv('house-prices-advanced-regression-techniques/sample_submission.csv',index_col='Id')\n",
    "data=pd.concat([train_x,test_x],keys=[\"train\",\"test\"])\n",
    "data[['MSSubClass','MoSold','OverallCond','OverallQual']]=data[['MSSubClass','MoSold','OverallCond','OverallQual']].astype('object')\n",
    "data=data.fillna({'Alley': 'NA', 'FireplaceQu': 'NA', 'PoolQC': 'NA', 'Fence': 'NA', 'MiscFeature': 'NA',\n",
    "                                         'BsmtQual': 'NA', 'BsmtCond': 'NA', 'BsmtExposure': 'NA', 'BsmtFinType1': 'NA', 'BsmtFinType2': 'NA',\n",
    "                                         'GarageType': 'NA', 'GarageFinish': 'NA', 'GarageQual': 'NA', 'GarageCond': 'NA'})\n",
    "na_l=data.columns[data.isna().any()].tolist()\n",
    "me=training[na_l].select_dtypes(\"float64\").median()\n",
    "for item in training[na_l].select_dtypes(\"object\"):\n",
    "    tem=data[item].value_counts()\n",
    "    tem1=tem.idxmax()\n",
    "    data[item]=tem1\n",
    "for item in me.index:\n",
    "    data[item]=data[item].replace(np.nan,me[item])\n",
    "train_x=data.loc[\"train\"]\n",
    "test_x=data.loc[\"test\"]\n",
    "training=train_x.join(train_y)"
   ],
   "metadata": {
    "collapsed": false,
    "pycharm": {
     "name": "#%%\n"
    }
   }
  },
  {
   "cell_type": "code",
   "execution_count": 179,
   "outputs": [
    {
     "data": {
      "text/plain": "KitchenAbvGr    -0.135907\nEnclosedPorch   -0.128578\nYrSold          -0.028923\nLowQualFinSF    -0.025606\nMiscVal         -0.021190\nBsmtHalfBath    -0.016844\nBsmtFinSF2      -0.011378\n3SsnPorch        0.044584\nPoolArea         0.092404\nScreenPorch      0.111447\nBedroomAbvGr     0.168213\nBsmtUnfSF        0.214479\nBsmtFullBath     0.227122\nLotArea          0.263843\nHalfBath         0.284108\nOpenPorchSF      0.315856\n2ndFlrSF         0.319334\nWoodDeckSF       0.324413\nLotFrontage      0.334771\nBsmtFinSF1       0.386420\nGarageYrBlt      0.466754\nFireplaces       0.466929\nMasVnrArea       0.472614\nYearRemodAdd     0.507101\nYearBuilt        0.522897\nTotRmsAbvGrd     0.533723\nFullBath         0.560664\n1stFlrSF         0.605852\nTotalBsmtSF      0.613581\nGarageArea       0.623431\nGarageCars       0.640409\nGrLivArea        0.708624\nSalePrice        1.000000\nName: SalePrice, dtype: float64"
     },
     "execution_count": 179,
     "metadata": {},
     "output_type": "execute_result"
    }
   ],
   "source": [
    "c=training.corr()\n",
    "c['SalePrice'].sort_values()"
   ],
   "metadata": {
    "collapsed": false,
    "pycharm": {
     "name": "#%%\n"
    }
   }
  }
 ],
 "metadata": {
  "kernelspec": {
   "display_name": "PyCharm (CS675)",
   "language": "python",
   "name": "pycharm-3f539605"
  },
  "language_info": {
   "codemirror_mode": {
    "name": "ipython",
    "version": 3
   },
   "file_extension": ".py",
   "mimetype": "text/x-python",
   "name": "python",
   "nbconvert_exporter": "python",
   "pygments_lexer": "ipython3",
   "version": "3.9.6"
  }
 },
 "nbformat": 4,
 "nbformat_minor": 1
}